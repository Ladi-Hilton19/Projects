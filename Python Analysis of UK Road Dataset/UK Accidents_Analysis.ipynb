{
 "cells": [
  {
   "cell_type": "markdown",
   "metadata": {},
   "source": [
    "# Importing the required Libaries and other Functions\n"
   ]
  },
  {
   "cell_type": "code",
   "execution_count": 1,
   "metadata": {},
   "outputs": [],
   "source": [
    "import os\n",
    "import sys\n",
    " \n",
    "os.environ[\"SPARK_HOME\"] = \"/usr/spark2.4.3\"\n",
    "os.environ[\"PYLIB\"] = os.environ[\"SPARK_HOME\"] + \"/python/lib\"\n",
    "# In below two lines, use /usr/bin/python2.7 if you want to use Python 2\n",
    "os.environ[\"PYSPARK_PYTHON\"] = \"/usr/local/anaconda/bin/python\" \n",
    "os.environ[\"PYSPARK_DRIVER_PYTHON\"] = \"/usr/local/anaconda/bin/python\"\n",
    "sys.path.insert(0, os.environ[\"PYLIB\"] +\"/py4j-0.10.7-src.zip\")\n",
    "sys.path.insert(0, os.environ[\"PYLIB\"] +\"/pyspark.zip\")\n",
    "\n",
    "from pyspark import SparkContext, SparkConf\n",
    "conf = SparkConf().setAppName(\"appName2\")\n",
    "sc = SparkContext(conf=conf)"
   ]
  },
  {
   "cell_type": "code",
   "execution_count": 2,
   "metadata": {},
   "outputs": [],
   "source": [
    "from pyspark.sql import SparkSession\n",
    "from functools import reduce\n",
    "from pyspark.sql.functions import col, lit, when\n",
    "#from graphframes import *\n",
    "\n",
    "# initialise sc\n",
    "#from pyspark import SparkConf, SparkContext\n",
    "from pyspark.sql import SQLContext, HiveContext\n",
    "from pyspark.sql.types import *\n",
    "#sc= SparkContext()\n",
    "sqlContext = SQLContext(sc)\n"
   ]
  },
  {
   "cell_type": "code",
   "execution_count": 73,
   "metadata": {},
   "outputs": [],
   "source": [
    "# Import libraries and other functions\n",
    "from io import StringIO\n",
    "from collections import namedtuple\n",
    "from pyspark.sql import Row\n",
    "from pyspark.sql.types import *\n",
    "from pyspark.sql.functions import *\n",
    "\n",
    "import csv\n",
    "import matplotlib.pyplot as plt\n",
    "import gmplot\n",
    "import pandas as pd\n",
    "import numpy as np\n"
   ]
  },
  {
   "cell_type": "code",
   "execution_count": 3,
   "metadata": {},
   "outputs": [
    {
     "name": "stdout",
     "output_type": "stream",
     "text": [
      "['The Project Gutenberg EBook of The Adventures of Sherlock Holmes', 'by Sir Arthur Conan Doyle', '(#15 in our series by Sir Arthur Conan Doyle)', '', 'Copyright laws are changing all over the world. Be sure to check the', 'copyright laws for your country before downloading or redistributing', 'this or any other Project Gutenberg eBook.', '', 'This header should be the first thing seen when viewing this Project', 'Gutenberg file.  Please do not remove it.  Do not change or edit the']\n",
      "2.4.3\n"
     ]
    }
   ],
   "source": [
    "# test that config loaded correctly\n",
    "rdd = sc.textFile(\"/data/mr/wordcount/input/\")\n",
    "print(rdd.take(10))\n",
    "print(sc.version)"
   ]
  },
  {
   "cell_type": "markdown",
   "metadata": {},
   "source": [
    " # 2 Loading the road casualty dataset(casualty & accident) into rdd"
   ]
  },
  {
   "cell_type": "code",
   "execution_count": 4,
   "metadata": {},
   "outputs": [],
   "source": [
    "#creating an rdd from the casualty dataset using the sc.textFile function\n",
    "rdd_acc1 = sc.textFile(\"hdfs:///user/imat5322_482153/road-casualty-statistics-casualty-1979-2020.csv\")"
   ]
  },
  {
   "cell_type": "code",
   "execution_count": 5,
   "metadata": {},
   "outputs": [
    {
     "data": {
      "text/plain": [
       "['accident_index,accident_year,accident_reference,vehicle_reference,casualty_reference,casualty_class,sex_of_casualty,age_of_casualty,age_band_of_casualty,casualty_severity,pedestrian_location,pedestrian_movement,car_passenger,bus_or_coach_passenger,pedestrian_road_maintenance_worker,casualty_type,casualty_home_area_type,casualty_imd_decile',\n",
       " '197901A11AD14,1979,01A11AD14,2,1,1,1,-1,-1,3,0,0,0,0,-1,104,-1,-1']"
      ]
     },
     "execution_count": 5,
     "metadata": {},
     "output_type": "execute_result"
    }
   ],
   "source": [
    "#to check if our file loaded correctly\n",
    "rdd_acc1.take(2)"
   ]
  },
  {
   "cell_type": "code",
   "execution_count": 6,
   "metadata": {},
   "outputs": [
    {
     "data": {
      "text/plain": [
       "11449313"
      ]
     },
     "execution_count": 6,
     "metadata": {},
     "output_type": "execute_result"
    }
   ],
   "source": [
    "#to know the amount of observations in the dataset\n",
    "rdd_acc1.count()"
   ]
  },
  {
   "cell_type": "code",
   "execution_count": 7,
   "metadata": {},
   "outputs": [],
   "source": [
    "#creating an rdd from the accident dataset using the sc.textFile function and also a structured list per line using the map function\n",
    "rdd_acc2 = sc.textFile(\"hdfs:///user/imat5322_482153/dft-road-casualty-statistics-accident-1979-2020.csv\")"
   ]
  },
  {
   "cell_type": "code",
   "execution_count": 8,
   "metadata": {},
   "outputs": [
    {
     "data": {
      "text/plain": [
       "['accident_index,accident_year,accident_reference,location_easting_osgr,location_northing_osgr,longitude,latitude,police_force,accident_severity,number_of_vehicles,number_of_casualties,date,day_of_week,time,local_authority_district,local_authority_ons_district,local_authority_highway,first_road_class,first_road_number,road_type,speed_limit,junction_detail,junction_control,second_road_class,second_road_number,pedestrian_crossing_human_control,pedestrian_crossing_physical_facilities,light_conditions,weather_conditions,road_surface_conditions,special_conditions_at_site,carriageway_hazards,urban_or_rural_area,did_police_officer_attend_scene_of_accident,trunk_road_flag,lsoa_of_accident_location',\n",
       " '197901A11AD14,1979,01A11AD14,NULL,NULL,NULL,NULL,1,3,2,1,18/01/1979,5,08:00,11,-1,-1,3,4,1,30,1,4,-1,-1,-1,-1,1,8,1,-1,0,-1,-1,-1,-1']"
      ]
     },
     "execution_count": 8,
     "metadata": {},
     "output_type": "execute_result"
    }
   ],
   "source": [
    "rdd_acc2.take(2)"
   ]
  },
  {
   "cell_type": "code",
   "execution_count": 9,
   "metadata": {},
   "outputs": [
    {
     "data": {
      "text/plain": [
       "8602825"
      ]
     },
     "execution_count": 9,
     "metadata": {},
     "output_type": "execute_result"
    }
   ],
   "source": [
    "rdd_acc2.count()"
   ]
  },
  {
   "cell_type": "code",
   "execution_count": 10,
   "metadata": {},
   "outputs": [],
   "source": [
    "#choosing our desired column variables from the accident dataset\n",
    "rdd_acc3 = rdd_acc2.map(lambda x: x.split(',')).map(lambda x: (str(x[0]), str(x[1]), \\\n",
    "str(x[5]), str(x[6]), str(x[8]), str(x[9]), str(x[10]), str(x[11]), str(x[12]), str(x[13]),\\\n",
    "str(x[14]), str(x[19]), str(x[20]), str(x[27]), str(x[28]), str(x[29]), str(x[32]), str(x[33]))) "
   ]
  },
  {
   "cell_type": "code",
   "execution_count": 11,
   "metadata": {},
   "outputs": [
    {
     "data": {
      "text/plain": [
       "('accident_index',\n",
       " 'accident_year',\n",
       " 'longitude',\n",
       " 'latitude',\n",
       " 'accident_severity',\n",
       " 'number_of_vehicles',\n",
       " 'number_of_casualties',\n",
       " 'date',\n",
       " 'day_of_week',\n",
       " 'time',\n",
       " 'local_authority_district',\n",
       " 'road_type',\n",
       " 'speed_limit',\n",
       " 'light_conditions',\n",
       " 'weather_conditions',\n",
       " 'road_surface_conditions',\n",
       " 'urban_or_rural_area',\n",
       " 'did_police_officer_attend_scene_of_accident')"
      ]
     },
     "execution_count": 11,
     "metadata": {},
     "output_type": "execute_result"
    }
   ],
   "source": [
    "#call an action to ensure new rdd was created\n",
    "rdd_acc3.first()"
   ]
  },
  {
   "cell_type": "code",
   "execution_count": 41,
   "metadata": {
    "pixiedust": {
     "displayParams": {}
    }
   },
   "outputs": [],
   "source": [
    "#creates a new rdd that contains the variable columns we need for our analysis and visualization\n",
    "rdd_acc4 = rdd_acc1.map(lambda x: x.split(','))\\\n",
    ".map(lambda x: (str(x[0]), str(x[5]), str(x[6]), str(x[7]), str(x[9])))"
   ]
  },
  {
   "cell_type": "code",
   "execution_count": 42,
   "metadata": {},
   "outputs": [
    {
     "data": {
      "text/plain": [
       "[('accident_index',\n",
       "  'casualty_class',\n",
       "  'sex_of_casualty',\n",
       "  'age_of_casualty',\n",
       "  'casualty_severity'),\n",
       " ('197901A11AD14', '1', '1', '-1', '3')]"
      ]
     },
     "execution_count": 42,
     "metadata": {},
     "output_type": "execute_result"
    }
   ],
   "source": [
    "#call an action to ensure new rdd was created\n",
    "rdd_acc4.take(2)"
   ]
  },
  {
   "cell_type": "markdown",
   "metadata": {},
   "source": [
    "# PREPARING RDD FOR CONVERSION TO DATAFRAME "
   ]
  },
  {
   "cell_type": "code",
   "execution_count": 43,
   "metadata": {},
   "outputs": [],
   "source": [
    "#Removal of header from the created rdds to be replaced later by a claerly defined schema\n",
    "#we start by creating an rdd for the headers\n",
    "header1 = rdd_acc3.first()\n",
    "header2 = rdd_acc4.first()"
   ]
  },
  {
   "cell_type": "code",
   "execution_count": 15,
   "metadata": {},
   "outputs": [
    {
     "data": {
      "text/plain": [
       "('accident_index',\n",
       " 'accident_year',\n",
       " 'longitude',\n",
       " 'latitude',\n",
       " 'accident_severity',\n",
       " 'number_of_vehicles',\n",
       " 'number_of_casualties',\n",
       " 'date',\n",
       " 'day_of_week',\n",
       " 'time',\n",
       " 'local_authority_district',\n",
       " 'road_type',\n",
       " 'speed_limit',\n",
       " 'light_conditions',\n",
       " 'weather_conditions',\n",
       " 'road_surface_conditions',\n",
       " 'urban_or_rural_area',\n",
       " 'did_police_officer_attend_scene_of_accident')"
      ]
     },
     "execution_count": 15,
     "metadata": {},
     "output_type": "execute_result"
    }
   ],
   "source": [
    "#checking if our header was created\n",
    "header1"
   ]
  },
  {
   "cell_type": "code",
   "execution_count": 44,
   "metadata": {},
   "outputs": [
    {
     "data": {
      "text/plain": [
       "('accident_index',\n",
       " 'casualty_class',\n",
       " 'sex_of_casualty',\n",
       " 'age_of_casualty',\n",
       " 'casualty_severity')"
      ]
     },
     "execution_count": 44,
     "metadata": {},
     "output_type": "execute_result"
    }
   ],
   "source": [
    "#checking if our header was created\n",
    "header2"
   ]
  },
  {
   "cell_type": "code",
   "execution_count": 45,
   "metadata": {},
   "outputs": [],
   "source": [
    "#Remove the headers by filtering header1 and header2 from rdd_acc3 and rdd_acc4\n",
    "rdd_acc5 = rdd_acc3.filter(lambda x: x!=header1)\n",
    "rdd_acc6 = rdd_acc4.filter(lambda x: x!=header2)"
   ]
  },
  {
   "cell_type": "code",
   "execution_count": 18,
   "metadata": {},
   "outputs": [
    {
     "data": {
      "text/plain": [
       "('197901A11AD14',\n",
       " '1979',\n",
       " 'NULL',\n",
       " 'NULL',\n",
       " '3',\n",
       " '2',\n",
       " '1',\n",
       " '18/01/1979',\n",
       " '5',\n",
       " '08:00',\n",
       " '11',\n",
       " '1',\n",
       " '30',\n",
       " '1',\n",
       " '8',\n",
       " '1',\n",
       " '-1',\n",
       " '-1')"
      ]
     },
     "execution_count": 18,
     "metadata": {},
     "output_type": "execute_result"
    }
   ],
   "source": [
    "#checking if our rdds were created\n",
    "#rdds without headers created\n",
    "rdd_acc5.first()"
   ]
  },
  {
   "cell_type": "code",
   "execution_count": 46,
   "metadata": {},
   "outputs": [
    {
     "data": {
      "text/plain": [
       "('197901A11AD14', '1', '1', '-1', '3')"
      ]
     },
     "execution_count": 46,
     "metadata": {},
     "output_type": "execute_result"
    }
   ],
   "source": [
    "#rdd without header created\n",
    "rdd_acc6.first()"
   ]
  },
  {
   "cell_type": "code",
   "execution_count": 20,
   "metadata": {},
   "outputs": [],
   "source": [
    "#creating a defined schema for rdd_acc5 for conversion to dataframe\n",
    "Acc_Schema = StructType([\\\n",
    "StructField('Accident_Index', StringType(), True), \\\n",
    "StructField('Accident_Year', StringType(), True), \\\n",
    "StructField('Longitude', StringType(), True), \\\n",
    "StructField('Latitude', StringType(), True), \\\n",
    "StructField('Accident_Severity', StringType(), True), \\\n",
    "StructField('Number_of_Vehicles', StringType(), True), \\\n",
    "StructField('Number_of_Casualties', StringType(), True), \\\n",
    "StructField('Date', StringType(), True), \\\n",
    "StructField('Day_of_Week', StringType(), True), \\\n",
    "StructField('Time', StringType(), True), \\\n",
    "StructField('Local_Authority_District', StringType(), True), \\\n",
    "StructField('Road_Type', StringType(), True), \\\n",
    "StructField('Speed_Limit', StringType(), True), \\\n",
    "StructField('Light_Conditions', StringType(), True), \\\n",
    "StructField('Weather_Conditions', StringType(), True), \\\n",
    "StructField('Road_Surface_Conditions', StringType(), True), \\\n",
    "StructField('Area_Type', StringType(), True), \\\n",
    "StructField('Police_Officer_attend_accident', StringType(), True)])\n"
   ]
  },
  {
   "cell_type": "code",
   "execution_count": 50,
   "metadata": {},
   "outputs": [],
   "source": [
    "#creating a defined schema for rdd_acc6 for conversion to a dataframe\n",
    "Cas_Schema= StructType([\\\n",
    "StructField('Accident_Index1', StringType(), True), \\\n",
    "StructField('Casualty_Class', StringType(), True), \\\n",
    "StructField('Sex', StringType(), True), \\\n",
    "StructField('Age', StringType(), True), \\\n",
    "StructField('Casualty_Severity', StringType(), True)])\n"
   ]
  },
  {
   "cell_type": "code",
   "execution_count": 22,
   "metadata": {},
   "outputs": [],
   "source": [
    "#creating a dataframe(accidents) from rdd_acc5 and our defined schema\n",
    "accidents = sqlContext.createDataFrame(rdd_acc5, Acc_Schema)"
   ]
  },
  {
   "cell_type": "code",
   "execution_count": 51,
   "metadata": {},
   "outputs": [],
   "source": [
    "#creating a dataframe(Casualties) from rdd_acc6 and our defined schema\n",
    "casualties = sqlContext.createDataFrame(rdd_acc6, Cas_Schema)"
   ]
  },
  {
   "cell_type": "code",
   "execution_count": 24,
   "metadata": {},
   "outputs": [
    {
     "name": "stdout",
     "output_type": "stream",
     "text": [
      "root\n",
      " |-- Accident_Index: string (nullable = true)\n",
      " |-- Accident_Year: string (nullable = true)\n",
      " |-- Longitude: string (nullable = true)\n",
      " |-- Latitude: string (nullable = true)\n",
      " |-- Accident_Severity: string (nullable = true)\n",
      " |-- Number_of_Vehicles: string (nullable = true)\n",
      " |-- Number_of_Casualties: string (nullable = true)\n",
      " |-- Date: string (nullable = true)\n",
      " |-- Day_of_Week: string (nullable = true)\n",
      " |-- Time: string (nullable = true)\n",
      " |-- Local_Authority_District: string (nullable = true)\n",
      " |-- Road_Type: string (nullable = true)\n",
      " |-- Speed_Limit: string (nullable = true)\n",
      " |-- Light_Conditions: string (nullable = true)\n",
      " |-- Weather_Conditions: string (nullable = true)\n",
      " |-- Road_Surface_Conditions: string (nullable = true)\n",
      " |-- Area_Type: string (nullable = true)\n",
      " |-- Police_Officer_attend_accident: string (nullable = true)\n",
      "\n"
     ]
    }
   ],
   "source": [
    "#checking our applied schema for the accident dataframe\n",
    "accidents.printSchema()"
   ]
  },
  {
   "cell_type": "code",
   "execution_count": 52,
   "metadata": {},
   "outputs": [
    {
     "name": "stdout",
     "output_type": "stream",
     "text": [
      "root\n",
      " |-- Accident_Index1: string (nullable = true)\n",
      " |-- Casualty_Class: string (nullable = true)\n",
      " |-- Sex: string (nullable = true)\n",
      " |-- Age: string (nullable = true)\n",
      " |-- Casualty_Severity: string (nullable = true)\n",
      "\n"
     ]
    }
   ],
   "source": [
    "#checking our defined schema for the Casualties dataframe\n",
    "casualties.printSchema()"
   ]
  },
  {
   "cell_type": "code",
   "execution_count": 26,
   "metadata": {},
   "outputs": [
    {
     "name": "stdout",
     "output_type": "stream",
     "text": [
      "+--------------+-------------+---------+--------+-----------------+------------------+--------------------+----------+-----------+-----+------------------------+---------+-----------+----------------+------------------+-----------------------+---------+------------------------------+\n",
      "|Accident_Index|Accident_Year|Longitude|Latitude|Accident_Severity|Number_of_Vehicles|Number_of_Casualties|      Date|Day_of_Week| Time|Local_Authority_District|Road_Type|Speed_Limit|Light_Conditions|Weather_Conditions|Road_Surface_Conditions|Area_Type|Police_Officer_attend_accident|\n",
      "+--------------+-------------+---------+--------+-----------------+------------------+--------------------+----------+-----------+-----+------------------------+---------+-----------+----------------+------------------+-----------------------+---------+------------------------------+\n",
      "| 197901A11AD14|         1979|     NULL|    NULL|                3|                 2|                   1|18/01/1979|          5|08:00|                      11|        1|         30|               1|                 8|                      1|       -1|                            -1|\n",
      "| 197901A1BAW34|         1979|     NULL|    NULL|                3|                 1|                   1|01/01/1979|          2|01:00|                      23|        9|         30|               4|                 8|                      3|       -1|                            -1|\n",
      "| 197901A1BFD77|         1979|     NULL|    NULL|                3|                 2|                   3|01/01/1979|          2|01:25|                      17|        9|         30|               4|                 8|                      3|       -1|                            -1|\n",
      "| 197901A1BGC20|         1979|     NULL|    NULL|                3|                 2|                   2|01/01/1979|          2|01:30|                       2|       12|         30|               4|                 8|                      3|       -1|                            -1|\n",
      "| 197901A1BGF95|         1979|     NULL|    NULL|                2|                 2|                   1|01/01/1979|          2|01:30|                     510|        6|         30|               4|                 3|                      3|       -1|                            -1|\n",
      "| 197901A1CBC96|         1979|     NULL|    NULL|                3|                 1|                   1|01/01/1979|          2|02:05|                       9|        6|         30|               4|                 8|                      3|       -1|                            -1|\n",
      "| 197901A1DAK71|         1979|     NULL|    NULL|                3|                 2|                   2|01/01/1979|          2|03:00|                      27|        9|         30|               4|                 8|                      3|       -1|                            -1|\n",
      "| 197901A1DAP95|         1979|     NULL|    NULL|                3|                 2|                   1|01/01/1979|          2|03:00|                      19|        9|         30|               4|                 8|                      3|       -1|                            -1|\n",
      "| 197901A1EAC32|         1979|     NULL|    NULL|                2|                 1|                   1|01/01/1979|          2|04:00|                       3|        6|         30|               4|                 3|                      3|       -1|                            -1|\n",
      "| 197901A1FBK75|         1979|     NULL|    NULL|                3|                 2|                   1|01/01/1979|          2|05:05|                      27|        9|         30|               4|                 8|                      3|       -1|                            -1|\n",
      "| 197901A1FDC88|         1979|     NULL|    NULL|                3|                 1|                   1|01/01/1979|          2|05:15|                       8|        9|         30|               4|                 8|                      3|       -1|                            -1|\n",
      "| 197901A1FLC40|         1979|     NULL|    NULL|                2|                 2|                   1|01/01/1979|          2|05:55|                       4|        9|         30|               4|                 8|                      3|       -1|                            -1|\n",
      "| 197901A1HJD08|         1979|     NULL|    NULL|                3|                 1|                   1|01/01/1979|          2|07:45|                      10|        9|         30|               4|                 8|                      2|       -1|                            -1|\n",
      "| 197901A1IAD25|         1979|     NULL|    NULL|                3|                 2|                   1|01/01/1979|          2|08:00|                      12|        3|         30|               1|                 3|                      3|       -1|                            -1|\n",
      "| 197901A1JBF05|         1979|     NULL|    NULL|                3|                 1|                   1|01/01/1979|          2|09:05|                      30|        9|         30|               1|                 3|                      3|       -1|                            -1|\n",
      "| 197901A1KAP90|         1979|     NULL|    NULL|                3|                 2|                   1|01/01/1979|          2|10:00|                      19|        9|         70|               1|                 8|                      3|       -1|                            -1|\n",
      "| 197901A1LBF06|         1979|     NULL|    NULL|                3|                 4|                   3|01/01/1979|          2|11:05|                      30|        3|         40|               1|                 8|                      3|       -1|                            -1|\n",
      "| 197901A1MAC56|         1979|     NULL|    NULL|                3|                 4|                   1|01/01/1979|          2|12:00|                       5|        6|         30|               1|                 8|                      3|       -1|                            -1|\n",
      "| 197901A1MBK65|         1979|     NULL|    NULL|                3|                 2|                   2|01/01/1979|          2|12:05|                      26|        9|         30|               1|                 8|                      3|       -1|                            -1|\n",
      "| 197901A1MID52|         1979|     NULL|    NULL|                3|                 2|                   1|01/01/1979|          2|12:40|                      15|        9|         30|               1|                 8|                      3|       -1|                            -1|\n",
      "+--------------+-------------+---------+--------+-----------------+------------------+--------------------+----------+-----------+-----+------------------------+---------+-----------+----------------+------------------+-----------------------+---------+------------------------------+\n",
      "only showing top 20 rows\n",
      "\n"
     ]
    }
   ],
   "source": [
    "#Checking if the accident dataframe ran correctly\n",
    "accidents.show()"
   ]
  },
  {
   "cell_type": "code",
   "execution_count": 53,
   "metadata": {},
   "outputs": [
    {
     "name": "stdout",
     "output_type": "stream",
     "text": [
      "+---------------+--------------+---+---+-----------------+\n",
      "|Accident_Index1|Casualty_Class|Sex|Age|Casualty_Severity|\n",
      "+---------------+--------------+---+---+-----------------+\n",
      "|  197901A11AD14|             1|  1| -1|                3|\n",
      "|  197901A1BAW34|             3|  2| 27|                3|\n",
      "|  197901A1BFD77|             1|  1| 21|                3|\n",
      "|  197901A1BFD77|             2|  1| 20|                3|\n",
      "|  197901A1BFD77|             1|  1| 35|                3|\n",
      "|  197901A1BGC20|             2|  1| 52|                3|\n",
      "|  197901A1BGC20|             2|  2| 46|                3|\n",
      "|  197901A1BGF95|             2|  2| 62|                2|\n",
      "|  197901A1CBC96|             3|  1| -1|                3|\n",
      "|  197901A1DAK71|             2|  1| 38|                3|\n",
      "|  197901A1DAK71|             1|  1| 24|                3|\n",
      "|  197901A1DAP95|             2|  2| 20|                3|\n",
      "|  197901A1EAC32|             3|  1| 21|                2|\n",
      "|  197901A1FBK75|             1|  1| 25|                3|\n",
      "|  197901A1FDC88|             1|  1| -1|                3|\n",
      "|  197901A1FLC40|             2|  2| 24|                2|\n",
      "|  197901A1HJD08|             3|  2| -1|                3|\n",
      "|  197901A1IAD25|             1|  1| 28|                3|\n",
      "|  197901A1JBF05|             2|  2| -1|                3|\n",
      "|  197901A1KAP90|             2|  1| 36|                3|\n",
      "+---------------+--------------+---+---+-----------------+\n",
      "only showing top 20 rows\n",
      "\n"
     ]
    }
   ],
   "source": [
    "#Checking if the casualties dataframe ran correctly\n",
    "casualties.show()"
   ]
  },
  {
   "cell_type": "code",
   "execution_count": 32,
   "metadata": {},
   "outputs": [
    {
     "name": "stdout",
     "output_type": "stream",
     "text": [
      "+--------------+-------------+---------+---------+-----------------+------------------+--------------------+----------+-----------+-----+------------------------+---------+-----------+----------------+------------------+-----------------------+---------+------------------------------+\n",
      "|Accident_Index|Accident_Year|Longitude| Latitude|Accident_Severity|Number_of_Vehicles|Number_of_Casualties|      Date|Day_of_Week| Time|Local_Authority_District|Road_Type|Speed_Limit|Light_Conditions|Weather_Conditions|Road_Surface_Conditions|Area_Type|Police_Officer_attend_accident|\n",
      "+--------------+-------------+---------+---------+-----------------+------------------+--------------------+----------+-----------+-----+------------------------+---------+-----------+----------------+------------------+-----------------------+---------+------------------------------+\n",
      "| 2010331000007|         2010|-1.159826|52.601438|                3|                 2|                   1|04/01/2010|          2|12:55|                     364|        6|         30|               1|                 1|                      4|        1|                             2|\n",
      "| 2010331000009|         2010|-1.178035|52.598869|                2|                 1|                   1|02/01/2010|          7|14:10|                     360|        6|         30|               1|                 8|                      4|        1|                             1|\n",
      "| 2010331000010|         2010|-1.304496|52.817506|                2|                 1|                   3|01/01/2010|          6|09:05|                     366|        3|         70|               1|                 1|                      4|        2|                             2|\n",
      "| 2010331000012|         2010|-1.193955| 52.43922|                2|                 1|                   1|01/01/2010|          6|10:35|                     363|        3|         70|               1|                 1|                      4|        2|                             1|\n",
      "| 2010331000016|         2010|-1.151256|52.800057|                3|                 1|                   1|03/01/2010|          1|11:29|                     362|        6|         50|               1|                 1|                      4|        2|                             1|\n",
      "| 2010331000018|         2010|-1.154106|52.622434|                3|                 2|                   2|01/01/2010|          6|01:30|                     364|        6|         30|               4|                 1|                      2|        1|                             2|\n",
      "| 2010331000019|         2010|-1.210108|52.572386|                3|                 1|                   1|05/01/2010|          3|06:40|                     360|        3|         50|               4|                 3|                      2|        1|                             1|\n",
      "| 2010331000021|         2010|-1.160869|52.685863|                3|                 1|                   3|02/01/2010|          7|09:55|                     364|        3|         70|               1|                 8|                      4|        2|                             1|\n",
      "| 2010331000024|         2010|-1.262183|52.661005|                3|                 1|                   1|01/01/2010|          6|09:05|                     361|        3|         70|               1|                 8|                      4|        2|                             1|\n",
      "| 2010331000027|         2010|-1.325677|52.656798|                3|                 2|                   2|04/01/2010|          2|07:35|                     361|        6|         60|               1|                 8|                      4|        2|                             1|\n",
      "| 2010331000030|         2010|-1.155852|52.623795|                3|                 2|                   1|24/02/2010|          4|09:25|                     364|        6|         30|               1|                 1|                      1|        1|                             2|\n",
      "| 2010331000031|         2010|-1.134741|52.638027|                3|                 2|                   1|02/01/2010|          7|16:40|                     364|        2|         30|               1|                 1|                      1|        1|                             2|\n",
      "| 2010331000033|         2010|-1.192482|52.640233|                3|                 2|                   2|01/01/2010|          6|10:20|                     364|        6|         30|               1|                 8|                      4|        1|                             1|\n",
      "| 2010331000037|         2010| -0.99542| 52.59782|                3|                 2|                   1|04/01/2010|          2|13:07|                     363|        6|         60|               1|                 3|                      4|        2|                             1|\n",
      "| 2010331000038|         2010|-1.091797|52.635189|                3|                 2|                   1|04/01/2010|          2|16:10|                     364|        6|         30|               4|                 8|                      4|        1|                             1|\n",
      "| 2010331000041|         2010|-1.233325|52.594834|                3|                 2|                   1|02/01/2010|          7|21:40|                     360|        6|         60|               6|                 8|                      2|        2|                             1|\n",
      "| 2010331000042|         2010|-0.914657| 52.84236|                3|                 2|                   3|03/01/2010|          1|11:55|                     365|        6|         60|               1|                 1|                      4|        2|                             1|\n",
      "| 2010331000044|         2010|-0.987952|52.742319|                3|                 3|                   4|04/01/2010|          2|18:15|                     365|        6|         60|               6|                 1|                      4|        2|                             1|\n",
      "| 2010331000045|         2010|-1.140788|52.608494|                3|                 2|                   1|02/01/2010|          7|15:16|                     364|        6|         30|               1|                 2|                      2|        1|                             1|\n",
      "| 2010331000046|         2010|-1.126616| 52.64534|                3|                 2|                   2|02/01/2010|          7|14:15|                     364|        1|         30|               1|                 2|                      2|        1|                             1|\n",
      "+--------------+-------------+---------+---------+-----------------+------------------+--------------------+----------+-----------+-----+------------------------+---------+-----------+----------------+------------------+-----------------------+---------+------------------------------+\n",
      "only showing top 20 rows\n",
      "\n"
     ]
    }
   ],
   "source": [
    "#filter out the years we need(2010-2020) using filter and isin commands from accident and casualties dataframe\n",
    "#filter out all local authorities under Leicestershire with their district codes using filter and isin command\n",
    "\n",
    "Leicestershire_acc = accidents.filter(accidents.Accident_Year.isin(\\\n",
    "[\"2010\",\"2011\",\"2012\",\"2013\",\"2014\",\"2015\",\"2016\",\"2017\",\"2018\",\"2019\",\"2020\"])).filter\\\n",
    "(accidents.Local_Authority_District.isin([\"360\",\"361\",\"362\",\"363\",\"364\",\"365\",\"366\",\"367\",\"368\"])) \n",
    "\n",
    "Leicestershire_acc.show()   #run an action to see if our code runs successfully\n"
   ]
  },
  {
   "cell_type": "code",
   "execution_count": 54,
   "metadata": {},
   "outputs": [
    {
     "name": "stdout",
     "output_type": "stream",
     "text": [
      "+--------------+-------------+---------+---------+-----------------+------------------+--------------------+----------+-----------+-----+------------------------+---------+-----------+----------------+------------------+-----------------------+---------+------------------------------+--------------+---+---+-----------------+\n",
      "|Accident_Index|Accident_Year|Longitude| Latitude|Accident_Severity|Number_of_Vehicles|Number_of_Casualties|      Date|Day_of_Week| Time|Local_Authority_District|Road_Type|Speed_Limit|Light_Conditions|Weather_Conditions|Road_Surface_Conditions|Area_Type|Police_Officer_attend_accident|Casualty_Class|Sex|Age|Casualty_Severity|\n",
      "+--------------+-------------+---------+---------+-----------------+------------------+--------------------+----------+-----------+-----+------------------------+---------+-----------+----------------+------------------+-----------------------+---------+------------------------------+--------------+---+---+-----------------+\n",
      "| 2010331001236|         2010|-1.104062|52.642384|                3|                 1|                   1|02/03/2010|          3|08:36|                     364|        6|         30|               1|                 1|                      1|        1|                             1|             3|  1|  9|                3|\n",
      "| 2010331001645|         2010|-1.168153|52.621725|                3|                 2|                   5|18/03/2010|          5|17:54|                     364|        6|         30|               1|                 1|                      1|        1|                             1|             1|  2| 18|                3|\n",
      "| 2010331001645|         2010|-1.168153|52.621725|                3|                 2|                   5|18/03/2010|          5|17:54|                     364|        6|         30|               1|                 1|                      1|        1|                             1|             2|  2| 12|                3|\n",
      "| 2010331001645|         2010|-1.168153|52.621725|                3|                 2|                   5|18/03/2010|          5|17:54|                     364|        6|         30|               1|                 1|                      1|        1|                             1|             1|  2| 22|                3|\n",
      "| 2010331001645|         2010|-1.168153|52.621725|                3|                 2|                   5|18/03/2010|          5|17:54|                     364|        6|         30|               1|                 1|                      1|        1|                             1|             2|  2| 22|                3|\n",
      "| 2010331001645|         2010|-1.168153|52.621725|                3|                 2|                   5|18/03/2010|          5|17:54|                     364|        6|         30|               1|                 1|                      1|        1|                             1|             2|  2| 19|                3|\n",
      "| 2010331006047|         2010|-0.900312|52.757811|                3|                 1|                   1|21/10/2010|          5|07:58|                     365|        6|         30|               1|                 1|                      2|        1|                             1|             3|  1| 16|                3|\n",
      "| 2011331100177|         2011|-1.186355|52.524307|                1|                 3|                   1|11/01/2011|          3|07:10|                     363|        6|         60|               6|                 1|                      2|        2|                             1|             1|  1| 43|                1|\n",
      "| 2011331100897|         2011|-1.075111|52.613573|                3|                 2|                   1|15/02/2011|          3|15:37|                     367|        6|         40|               1|                 8|                      2|        2|                             1|             1|  1| 45|                3|\n",
      "| 2011331102279|         2011|-1.194907|52.580555|                3|                 2|                   1|24/04/2011|          1|16:26|                     360|        3|         40|               1|                 1|                      1|        1|                             1|             1|  1| 57|                3|\n",
      "| 2011331102320|         2011|-1.104199|52.736871|                3|                 2|                   1|29/04/2011|          6|00:16|                     362|        6|         30|               4|                 1|                      1|        1|                             1|             1|  1| 40|                3|\n",
      "| 2011331103164|         2011|-0.514256|52.653898|                3|                 2|                   3|25/05/2011|          4|07:40|                     368|        6|         60|               1|                 1|                      1|        2|                             1|             1|  1| 49|                3|\n",
      "| 2011331103164|         2011|-0.514256|52.653898|                3|                 2|                   3|25/05/2011|          4|07:40|                     368|        6|         60|               1|                 1|                      1|        2|                             1|             2|  2| 52|                3|\n",
      "| 2011331103164|         2011|-0.514256|52.653898|                3|                 2|                   3|25/05/2011|          4|07:40|                     368|        6|         60|               1|                 1|                      1|        2|                             1|             1|  1| 24|                3|\n",
      "| 2011331103930|         2011|-0.854596|52.845302|                2|                 2|                   2|16/07/2011|          7|16:30|                     365|        6|         60|               1|                 1|                      2|        2|                             1|             1|  1| 26|                2|\n",
      "| 2011331103930|         2011|-0.854596|52.845302|                2|                 2|                   2|16/07/2011|          7|16:30|                     365|        6|         60|               1|                 1|                      2|        2|                             1|             2|  2| 51|                3|\n",
      "| 2011331105158|         2011|-0.516147|  52.6461|                2|                 1|                   2|17/09/2011|          7|00:10|                     368|        6|         30|               4|                 1|                      2|        2|                             1|             1|  1| 21|                3|\n",
      "| 2011331105158|         2011|-0.516147|  52.6461|                2|                 1|                   2|17/09/2011|          7|00:10|                     368|        6|         30|               4|                 1|                      2|        2|                             1|             2|  2| 17|                2|\n",
      "| 2011331105678|         2011| -1.19056|52.584211|                3|                 2|                   1|29/09/2011|          5|16:45|                     360|        3|         40|               1|                 1|                      1|        1|                             2|             1|  2| 28|                3|\n",
      "| 2011331106657|         2011|-0.833008|52.708891|                3|                 2|                   1|23/11/2011|          4|16:15|                     365|        6|         60|               1|                 1|                      1|        2|                             2|             1|  2| 51|                3|\n",
      "+--------------+-------------+---------+---------+-----------------+------------------+--------------------+----------+-----------+-----+------------------------+---------+-----------+----------------+------------------+-----------------------+---------+------------------------------+--------------+---+---+-----------------+\n",
      "only showing top 20 rows\n",
      "\n"
     ]
    }
   ],
   "source": [
    "#Merge accidents and casualties together using join command(this is to help us select districts which is only available in accident dataset)\n",
    "#filter out the years we need(2010-2020) using filter and isin commands from the merged dataframes\n",
    "#filter out all local authorities under Leicestershire with their district codes using filter and isin command\n",
    "\n",
    "Leicestershire_cas = accidents.join(casualties, accidents.Accident_Index == casualties.Accident_Index1, how='full').drop(col(\"Accident_Index1\")).filter(accidents.Accident_Year.isin(\\\n",
    "[\"2010\",\"2011\",\"2012\",\"2013\",\"2014\",\"2015\",\"2016\",\"2017\",\"2018\",\"2019\",\"2020\"])).filter\\\n",
    "(accidents.Local_Authority_District.isin([\"360\",\"361\",\"362\",\"363\",\"364\",\"365\",\"366\",\"367\",\"368\"])) \n",
    "\n",
    "\n",
    "Leicestershire_cas.show()   #run an action to see if our code runs successfully"
   ]
  },
  {
   "cell_type": "code",
   "execution_count": 55,
   "metadata": {},
   "outputs": [],
   "source": [
    "#replacing some column values with characters using regexp_replace \n",
    "\n",
    "from pyspark.sql.functions import regexp_replace\n",
    "Leicestershire_cas1 = Leicestershire_cas.withColumn('Day_of_Week', regexp_replace('Day_of_Week', '1', 'Sunday'))\\\n",
    ".withColumn('Day_of_Week', regexp_replace('Day_of_Week', '2', 'Monday'))\\\n",
    ".withColumn('Day_of_Week', regexp_replace('Day_of_Week', '3', 'Tuesday'))\\\n",
    ".withColumn('Day_of_Week', regexp_replace('Day_of_Week', '4', 'Wednesday'))\\\n",
    ".withColumn('Day_of_Week', regexp_replace('Day_of_Week', '5', 'Thursday'))\\\n",
    ".withColumn('Day_of_Week', regexp_replace('Day_of_Week', '6', 'Friday'))\\\n",
    ".withColumn('Day_of_Week', regexp_replace('Day_of_Week', '7', 'Saturday'))\\\n",
    ".withColumn('Local_Authority_District', regexp_replace('Local_Authority_District', '360', 'Blaby'))\\\n",
    ".withColumn('Local_Authority_District', regexp_replace('Local_Authority_District', '361', 'Hinckley and Bosworth'))\\\n",
    ".withColumn('Local_Authority_District', regexp_replace('Local_Authority_District', '362', 'Charnwood'))\\\n",
    ".withColumn('Local_Authority_District', regexp_replace('Local_Authority_District', '363', 'Harborough'))\\\n",
    ".withColumn('Local_Authority_District', regexp_replace('Local_Authority_District', '364', 'Leicester'))\\\n",
    ".withColumn('Local_Authority_District', regexp_replace('Local_Authority_District', '365', 'Melton'))\\\n",
    ".withColumn('Local_Authority_District', regexp_replace('Local_Authority_District', '366', 'North West Leicestershire'))\\\n",
    ".withColumn('Local_Authority_District', regexp_replace('Local_Authority_District', '367', 'Oadby and Wigston'))\\\n",
    ".withColumn('Local_Authority_District', regexp_replace('Local_Authority_District', '368', 'Rutland'))\\\n",
    ".withColumn('Road_Type', regexp_replace('Road_Type', '1', 'Roundabout'))\\\n",
    ".withColumn('Road_Type', regexp_replace('Road_Type', '2', 'One Way Street'))\\\n",
    ".withColumn('Road_Type', regexp_replace('Road_Type', '3', 'Dual Carriageway'))\\\n",
    ".withColumn('Road_Type', regexp_replace('Road_Type', '6', 'Single Carriageway'))\\\n",
    ".withColumn('Road_Type', regexp_replace('Road_Type', '7', 'Slip Road'))\\\n",
    ".withColumn('Road_Type', regexp_replace('Road_Type', '12', 'One Way/Slip Road'))\\\n",
    ".withColumn('Road_Type', regexp_replace('Road_Type', '-1', 'null'))\\\n",
    ".withColumn('Road_Type', regexp_replace('Road_Type', '9', 'unknown'))\\\n",
    ".withColumn('Light_Conditions', regexp_replace('Light_Conditions', '1', 'Daylight'))\\\n",
    ".withColumn('Light_Conditions', regexp_replace('Light_Conditions', '4', 'Dark/lights lit'))\\\n",
    ".withColumn('Light_Conditions', regexp_replace('Light_Conditions', '5', 'Dark/Lights unlit'))\\\n",
    ".withColumn('Light_Conditions', regexp_replace('Light_Conditions', '6', 'Darkn/no Lighting'))\\\n",
    ".withColumn('Light_Conditions', regexp_replace('Light_Conditions', '7', 'Dark/ Lighting Unknown'))\\\n",
    ".withColumn('Light_Conditions', regexp_replace('Light_Conditions', '-1', 'null'))\\\n",
    ".withColumn('Weather_Conditions', regexp_replace('Weather_Conditions', '1', 'Fine'))\\\n",
    ".withColumn('Weather_Conditions', regexp_replace('Weather_Conditions', '2', 'Rain no high winds'))\\\n",
    ".withColumn('Weather_Conditions', regexp_replace('Weather_Conditions', '3', 'Snow no high winds'))\\\n",
    ".withColumn('Weather_Conditions', regexp_replace('Weather_Conditions', '4', 'Fine high winds '))\\\n",
    ".withColumn('Weather_Conditions', regexp_replace('Weather_Conditions', '5', 'Rain and High winds'))\\\n",
    ".withColumn('Weather_Conditions', regexp_replace('Weather_Conditions', '6', 'Snow and High winds'))\\\n",
    ".withColumn('Weather_Conditions', regexp_replace('Weather_Conditions', '7', 'Fog or Mist'))\\\n",
    ".withColumn('Weather_Conditions', regexp_replace('Weather_Conditions', '8', 'Other'))\\\n",
    ".withColumn('Weather_Conditions', regexp_replace('Weather_Conditions', '9', 'Unknown'))\\\n",
    ".withColumn('Weather_Conditions', regexp_replace('Weather_Conditions', '-1', 'null'))\\\n",
    ".withColumn('Road_Surface_Conditions', regexp_replace('Road_Surface_Conditions', '1', 'Dry'))\\\n",
    ".withColumn('Road_Surface_Conditions', regexp_replace('Road_Surface_Conditions', '2', 'Wet'))\\\n",
    ".withColumn('Road_Surface_Conditions', regexp_replace('Road_Surface_Conditions', '3', 'Snow'))\\\n",
    ".withColumn('Road_Surface_Conditions', regexp_replace('Road_Surface_Conditions', '4', 'Frost/Ice'))\\\n",
    ".withColumn('Road_Surface_Conditions', regexp_replace('Road_Surface_Conditions', '5', 'Flood/over 3cm deep'))\\\n",
    ".withColumn('Road_Surface_Conditions', regexp_replace('Road_Surface_Conditions', '6', 'Oil/Diesel'))\\\n",
    ".withColumn('Road_Surface_Conditions', regexp_replace('Road_Surface_Conditions', '7', 'Mud'))\\\n",
    ".withColumn('Road_Surface_Conditions', regexp_replace('Road_Surface_Conditions', '-1', 'null'))\\\n",
    ".withColumn('Road_Surface_Conditions', regexp_replace('Road_Surface_Conditions', '9', 'unknown'))\\\n",
    ".withColumn('Area_Type', regexp_replace('Area_Type', '1', 'Urban'))\\\n",
    ".withColumn('Area_Type', regexp_replace('Area_Type', '2', 'Rural'))\\\n",
    ".withColumn('Area_Type', regexp_replace('Area_Type', '3', 'Unallocated'))\\\n",
    ".withColumn('Area_Type', regexp_replace('Area_Type', '-1', 'missing'))\\\n",
    ".withColumn('Police_Officer_Attend_Accident', regexp_replace('Police_Officer_Attend_Accident', '1', 'Yes'))\\\n",
    ".withColumn('Police_Officer_Attend_Accident', regexp_replace('Police_Officer_Attend_Accident', '2', 'No'))\\\n",
    ".withColumn('Police_Officer_Attend_Accident', regexp_replace('Police_Officer_Attend_Accident', '3', 'No/Self Reported'))\\\n",
    ".withColumn('Police_Officer_Attend_Accident', regexp_replace('Police_Officer_Attend_Accident', '-1', 'null'))\\\n",
    ".withColumn('Casualty_Class', regexp_replace('Casualty_Class', '1', 'Driver/Rider'))\\\n",
    ".withColumn('Casualty_Class', regexp_replace('Casualty_Class', '2', 'Passenger'))\\\n",
    ".withColumn('Casualty_Class', regexp_replace('Casualty_Class', '3', 'Pedestrian'))\\\n",
    ".withColumn('Sex', regexp_replace('Sex', '1', 'Male'))\\\n",
    ".withColumn('Sex', regexp_replace('Sex', '2', 'Female'))\\\n",
    ".withColumn('Sex', regexp_replace('Sex', '9', 'unknown'))\\\n",
    ".withColumn('Sex', regexp_replace('Sex', '-1', 'null'))\\\n",
    ".withColumn('Casualty_Severity', regexp_replace('Casualty_Severity', '1', 'Fatal'))\\\n",
    ".withColumn('Casualty_Severity', regexp_replace('Casualty_Severity', '2', 'Serious'))\\\n",
    ".withColumn('Casualty_Severity', regexp_replace('Casualty_Severity', '3', 'Slight'))\\\n",
    ".withColumn('Accident_Severity', regexp_replace('Accident_Severity', '1', 'Fatal'))\\\n",
    ".withColumn('Accident_Severity', regexp_replace('Accident_Severity', '2', 'Serious'))\\\n",
    ".withColumn('Accident_Severity', regexp_replace('Accident_Severity', '3', 'Slight'))\n"
   ]
  },
  {
   "cell_type": "code",
   "execution_count": 37,
   "metadata": {},
   "outputs": [],
   "source": [
    "Leicestershire_acc1 = Leicestershire_acc.withColumn('Day_of_Week', regexp_replace('Day_of_Week', '1', 'Sunday'))\\\n",
    ".withColumn('Day_of_Week', regexp_replace('Day_of_Week', '2', 'Monday'))\\\n",
    ".withColumn('Day_of_Week', regexp_replace('Day_of_Week', '3', 'Tuesday'))\\\n",
    ".withColumn('Day_of_Week', regexp_replace('Day_of_Week', '4', 'Wednesday'))\\\n",
    ".withColumn('Day_of_Week', regexp_replace('Day_of_Week', '5', 'Thursday'))\\\n",
    ".withColumn('Day_of_Week', regexp_replace('Day_of_Week', '6', 'Friday'))\\\n",
    ".withColumn('Day_of_Week', regexp_replace('Day_of_Week', '7', 'Saturday'))\\\n",
    ".withColumn('Local_Authority_District', regexp_replace('Local_Authority_District', '360', 'Blaby'))\\\n",
    ".withColumn('Local_Authority_District', regexp_replace('Local_Authority_District', '361', 'Hinckley and Bosworth'))\\\n",
    ".withColumn('Local_Authority_District', regexp_replace('Local_Authority_District', '362', 'Charnwood'))\\\n",
    ".withColumn('Local_Authority_District', regexp_replace('Local_Authority_District', '363', 'Harborough'))\\\n",
    ".withColumn('Local_Authority_District', regexp_replace('Local_Authority_District', '364', 'Leicester'))\\\n",
    ".withColumn('Local_Authority_District', regexp_replace('Local_Authority_District', '365', 'Melton'))\\\n",
    ".withColumn('Local_Authority_District', regexp_replace('Local_Authority_District', '366', 'North West Leicestershire'))\\\n",
    ".withColumn('Local_Authority_District', regexp_replace('Local_Authority_District', '367', 'Oadby and Wigston'))\\\n",
    ".withColumn('Local_Authority_District', regexp_replace('Local_Authority_District', '368', 'Rutland'))\\\n",
    ".withColumn('Road_Type', regexp_replace('Road_Type', '1', 'Roundabout'))\\\n",
    ".withColumn('Road_Type', regexp_replace('Road_Type', '2', 'One Way Street'))\\\n",
    ".withColumn('Road_Type', regexp_replace('Road_Type', '3', 'Dual Carriageway'))\\\n",
    ".withColumn('Road_Type', regexp_replace('Road_Type', '6', 'Single Carriageway'))\\\n",
    ".withColumn('Road_Type', regexp_replace('Road_Type', '7', 'Slip Road'))\\\n",
    ".withColumn('Road_Type', regexp_replace('Road_Type', '12', 'One Way/Slip Road'))\\\n",
    ".withColumn('Road_Type', regexp_replace('Road_Type', '-1', 'null'))\\\n",
    ".withColumn('Road_Type', regexp_replace('Road_Type', '9', 'unknown'))\\\n",
    ".withColumn('Light_Conditions', regexp_replace('Light_Conditions', '1', 'Daylight'))\\\n",
    ".withColumn('Light_Conditions', regexp_replace('Light_Conditions', '4', 'Dark/lights lit'))\\\n",
    ".withColumn('Light_Conditions', regexp_replace('Light_Conditions', '5', 'Dark/Lights unlit'))\\\n",
    ".withColumn('Light_Conditions', regexp_replace('Light_Conditions', '6', 'Darkn/no Lighting'))\\\n",
    ".withColumn('Light_Conditions', regexp_replace('Light_Conditions', '7', 'Dark/ Lighting Unknown'))\\\n",
    ".withColumn('Light_Conditions', regexp_replace('Light_Conditions', '-1', 'null'))\\\n",
    ".withColumn('Weather_Conditions', regexp_replace('Weather_Conditions', '1', 'Fine'))\\\n",
    ".withColumn('Weather_Conditions', regexp_replace('Weather_Conditions', '2', 'Rain no high winds'))\\\n",
    ".withColumn('Weather_Conditions', regexp_replace('Weather_Conditions', '3', 'Snow no high winds'))\\\n",
    ".withColumn('Weather_Conditions', regexp_replace('Weather_Conditions', '4', 'Fine high winds '))\\\n",
    ".withColumn('Weather_Conditions', regexp_replace('Weather_Conditions', '5', 'Rain and High winds'))\\\n",
    ".withColumn('Weather_Conditions', regexp_replace('Weather_Conditions', '6', 'Snow and High winds'))\\\n",
    ".withColumn('Weather_Conditions', regexp_replace('Weather_Conditions', '7', 'Fog or Mist'))\\\n",
    ".withColumn('Weather_Conditions', regexp_replace('Weather_Conditions', '8', 'Other'))\\\n",
    ".withColumn('Weather_Conditions', regexp_replace('Weather_Conditions', '9', 'Unknown'))\\\n",
    ".withColumn('Weather_Conditions', regexp_replace('Weather_Conditions', '-1', 'null'))\\\n",
    ".withColumn('Road_Surface_Conditions', regexp_replace('Road_Surface_Conditions', '1', 'Dry'))\\\n",
    ".withColumn('Road_Surface_Conditions', regexp_replace('Road_Surface_Conditions', '2', 'Wet'))\\\n",
    ".withColumn('Road_Surface_Conditions', regexp_replace('Road_Surface_Conditions', '3', 'Snow'))\\\n",
    ".withColumn('Road_Surface_Conditions', regexp_replace('Road_Surface_Conditions', '4', 'Frost/Ice'))\\\n",
    ".withColumn('Road_Surface_Conditions', regexp_replace('Road_Surface_Conditions', '5', 'Flood/over 3cm deep'))\\\n",
    ".withColumn('Road_Surface_Conditions', regexp_replace('Road_Surface_Conditions', '6', 'Oil/Diesel'))\\\n",
    ".withColumn('Road_Surface_Conditions', regexp_replace('Road_Surface_Conditions', '7', 'Mud'))\\\n",
    ".withColumn('Road_Surface_Conditions', regexp_replace('Road_Surface_Conditions', '-1', 'null'))\\\n",
    ".withColumn('Road_Surface_Conditions', regexp_replace('Road_Surface_Conditions', '9', 'unknown'))\\\n",
    ".withColumn('Area_Type', regexp_replace('Area_Type', '1', 'Urban'))\\\n",
    ".withColumn('Area_Type', regexp_replace('Area_Type', '2', 'Rural'))\\\n",
    ".withColumn('Area_Type', regexp_replace('Area_Type', '3', 'Unallocated'))\\\n",
    ".withColumn('Area_Type', regexp_replace('Area_Type', '-1', 'null'))\\\n",
    ".withColumn('Police_Officer_Attend_Accident', regexp_replace('Police_Officer_Attend_Accident', '1', 'Yes'))\\\n",
    ".withColumn('Police_Officer_Attend_Accident', regexp_replace('Police_Officer_Attend_Accident', '2', 'No'))\\\n",
    ".withColumn('Police_Officer_Attend_Accident', regexp_replace('Police_Officer_Attend_Accident', '3', 'No/Self Reported'))\\\n",
    ".withColumn('Police_Officer_Attend_Accident', regexp_replace('Police_Officer_Attend_Accident', '-1', 'null'))\\\n",
    ".withColumn('Accident_Severity', regexp_replace('Accident_Severity', '1', 'Fatal'))\\\n",
    ".withColumn('Accident_Severity', regexp_replace('Accident_Severity', '2', 'Serious'))\\\n",
    ".withColumn('Accident_Severity', regexp_replace('Accident_Severity', '3', 'Slight'))\n"
   ]
  },
  {
   "cell_type": "code",
   "execution_count": 38,
   "metadata": {},
   "outputs": [
    {
     "name": "stdout",
     "output_type": "stream",
     "text": [
      "+--------------+-------------+---------+---------+-----------------+------------------+--------------------+----------+-----------+-----+------------------------+------------------+-----------+-----------------+------------------+-----------------------+---------+------------------------------+\n",
      "|Accident_Index|Accident_Year|Longitude| Latitude|Accident_Severity|Number_of_Vehicles|Number_of_Casualties|      Date|Day_of_Week| Time|Local_Authority_District|         Road_Type|Speed_Limit| Light_Conditions|Weather_Conditions|Road_Surface_Conditions|Area_Type|Police_Officer_Attend_Accident|\n",
      "+--------------+-------------+---------+---------+-----------------+------------------+--------------------+----------+-----------+-----+------------------------+------------------+-----------+-----------------+------------------+-----------------------+---------+------------------------------+\n",
      "| 2010331000007|         2010|-1.159826|52.601438|           Slight|                 2|                   1|04/01/2010|     Monday|12:55|               Leicester|Single Carriageway|         30|         Daylight|              Fine|              Frost/Ice|    Urban|                            No|\n",
      "| 2010331000009|         2010|-1.178035|52.598869|          Serious|                 1|                   1|02/01/2010|   Saturday|14:10|                   Blaby|Single Carriageway|         30|         Daylight|             Other|              Frost/Ice|    Urban|                           Yes|\n",
      "| 2010331000010|         2010|-1.304496|52.817506|          Serious|                 1|                   3|01/01/2010|     Friday|09:05|    North West Leices...|  Dual Carriageway|         70|         Daylight|              Fine|              Frost/Ice|    Rural|                            No|\n",
      "| 2010331000012|         2010|-1.193955| 52.43922|          Serious|                 1|                   1|01/01/2010|     Friday|10:35|              Harborough|  Dual Carriageway|         70|         Daylight|              Fine|              Frost/Ice|    Rural|                           Yes|\n",
      "| 2010331000016|         2010|-1.151256|52.800057|           Slight|                 1|                   1|03/01/2010|     Sunday|11:29|               Charnwood|Single Carriageway|         50|         Daylight|              Fine|              Frost/Ice|    Rural|                           Yes|\n",
      "| 2010331000018|         2010|-1.154106|52.622434|           Slight|                 2|                   2|01/01/2010|     Friday|01:30|               Leicester|Single Carriageway|         30|  Dark/lights lit|              Fine|                    Wet|    Urban|                            No|\n",
      "| 2010331000019|         2010|-1.210108|52.572386|           Slight|                 1|                   1|05/01/2010|    Tuesday|06:40|                   Blaby|  Dual Carriageway|         50|  Dark/lights lit|Snow no high winds|                    Wet|    Urban|                           Yes|\n",
      "| 2010331000021|         2010|-1.160869|52.685863|           Slight|                 1|                   3|02/01/2010|   Saturday|09:55|               Leicester|  Dual Carriageway|         70|         Daylight|             Other|              Frost/Ice|    Rural|                           Yes|\n",
      "| 2010331000024|         2010|-1.262183|52.661005|           Slight|                 1|                   1|01/01/2010|     Friday|09:05|    Hinckley and Bosw...|  Dual Carriageway|         70|         Daylight|             Other|              Frost/Ice|    Rural|                           Yes|\n",
      "| 2010331000027|         2010|-1.325677|52.656798|           Slight|                 2|                   2|04/01/2010|     Monday|07:35|    Hinckley and Bosw...|Single Carriageway|         60|         Daylight|             Other|              Frost/Ice|    Rural|                           Yes|\n",
      "| 2010331000030|         2010|-1.155852|52.623795|           Slight|                 2|                   1|24/02/2010|  Wednesday|09:25|               Leicester|Single Carriageway|         30|         Daylight|              Fine|                    Dry|    Urban|                            No|\n",
      "| 2010331000031|         2010|-1.134741|52.638027|           Slight|                 2|                   1|02/01/2010|   Saturday|16:40|               Leicester|    One Way Street|         30|         Daylight|              Fine|                    Dry|    Urban|                            No|\n",
      "| 2010331000033|         2010|-1.192482|52.640233|           Slight|                 2|                   2|01/01/2010|     Friday|10:20|               Leicester|Single Carriageway|         30|         Daylight|             Other|              Frost/Ice|    Urban|                           Yes|\n",
      "| 2010331000037|         2010| -0.99542| 52.59782|           Slight|                 2|                   1|04/01/2010|     Monday|13:07|              Harborough|Single Carriageway|         60|         Daylight|Snow no high winds|              Frost/Ice|    Rural|                           Yes|\n",
      "| 2010331000038|         2010|-1.091797|52.635189|           Slight|                 2|                   1|04/01/2010|     Monday|16:10|               Leicester|Single Carriageway|         30|  Dark/lights lit|             Other|              Frost/Ice|    Urban|                           Yes|\n",
      "| 2010331000041|         2010|-1.233325|52.594834|           Slight|                 2|                   1|02/01/2010|   Saturday|21:40|                   Blaby|Single Carriageway|         60|Darkn/no Lighting|             Other|                    Wet|    Rural|                           Yes|\n",
      "| 2010331000042|         2010|-0.914657| 52.84236|           Slight|                 2|                   3|03/01/2010|     Sunday|11:55|                  Melton|Single Carriageway|         60|         Daylight|              Fine|              Frost/Ice|    Rural|                           Yes|\n",
      "| 2010331000044|         2010|-0.987952|52.742319|           Slight|                 3|                   4|04/01/2010|     Monday|18:15|                  Melton|Single Carriageway|         60|Darkn/no Lighting|              Fine|              Frost/Ice|    Rural|                           Yes|\n",
      "| 2010331000045|         2010|-1.140788|52.608494|           Slight|                 2|                   1|02/01/2010|   Saturday|15:16|               Leicester|Single Carriageway|         30|         Daylight|Rain no high winds|                    Wet|    Urban|                           Yes|\n",
      "| 2010331000046|         2010|-1.126616| 52.64534|           Slight|                 2|                   2|02/01/2010|   Saturday|14:15|               Leicester|        Roundabout|         30|         Daylight|Rain no high winds|                    Wet|    Urban|                           Yes|\n",
      "+--------------+-------------+---------+---------+-----------------+------------------+--------------------+----------+-----------+-----+------------------------+------------------+-----------+-----------------+------------------+-----------------------+---------+------------------------------+\n",
      "only showing top 20 rows\n",
      "\n"
     ]
    }
   ],
   "source": [
    "Leicestershire_acc1.show()"
   ]
  },
  {
   "cell_type": "code",
   "execution_count": 56,
   "metadata": {},
   "outputs": [
    {
     "name": "stdout",
     "output_type": "stream",
     "text": [
      "+--------------+-------------+---------+---------+-----------------+------------------+--------------------+----------+-----------+-----+------------------------+------------------+-----------+-----------------+------------------+-----------------------+---------+------------------------------+--------------+------+---+-----------------+\n",
      "|Accident_Index|Accident_Year|Longitude| Latitude|Accident_Severity|Number_of_Vehicles|Number_of_Casualties|      Date|Day_of_Week| Time|Local_Authority_District|         Road_Type|Speed_Limit| Light_Conditions|Weather_Conditions|Road_Surface_Conditions|Area_Type|Police_Officer_Attend_Accident|Casualty_Class|   Sex|Age|Casualty_Severity|\n",
      "+--------------+-------------+---------+---------+-----------------+------------------+--------------------+----------+-----------+-----+------------------------+------------------+-----------+-----------------+------------------+-----------------------+---------+------------------------------+--------------+------+---+-----------------+\n",
      "| 2010331001236|         2010|-1.104062|52.642384|           Slight|                 1|                   1|02/03/2010|    Tuesday|08:36|               Leicester|Single Carriageway|         30|         Daylight|              Fine|                    Dry|    Urban|                           Yes|    Pedestrian|  Male|  9|           Slight|\n",
      "| 2010331001645|         2010|-1.168153|52.621725|           Slight|                 2|                   5|18/03/2010|   Thursday|17:54|               Leicester|Single Carriageway|         30|         Daylight|              Fine|                    Dry|    Urban|                           Yes|  Driver/Rider|Female| 18|           Slight|\n",
      "| 2010331001645|         2010|-1.168153|52.621725|           Slight|                 2|                   5|18/03/2010|   Thursday|17:54|               Leicester|Single Carriageway|         30|         Daylight|              Fine|                    Dry|    Urban|                           Yes|     Passenger|Female| 12|           Slight|\n",
      "| 2010331001645|         2010|-1.168153|52.621725|           Slight|                 2|                   5|18/03/2010|   Thursday|17:54|               Leicester|Single Carriageway|         30|         Daylight|              Fine|                    Dry|    Urban|                           Yes|  Driver/Rider|Female| 22|           Slight|\n",
      "| 2010331001645|         2010|-1.168153|52.621725|           Slight|                 2|                   5|18/03/2010|   Thursday|17:54|               Leicester|Single Carriageway|         30|         Daylight|              Fine|                    Dry|    Urban|                           Yes|     Passenger|Female| 22|           Slight|\n",
      "| 2010331001645|         2010|-1.168153|52.621725|           Slight|                 2|                   5|18/03/2010|   Thursday|17:54|               Leicester|Single Carriageway|         30|         Daylight|              Fine|                    Dry|    Urban|                           Yes|     Passenger|Female| 19|           Slight|\n",
      "| 2010331006047|         2010|-0.900312|52.757811|           Slight|                 1|                   1|21/10/2010|   Thursday|07:58|                  Melton|Single Carriageway|         30|         Daylight|              Fine|                    Wet|    Urban|                           Yes|    Pedestrian|  Male| 16|           Slight|\n",
      "| 2011331100177|         2011|-1.186355|52.524307|            Fatal|                 3|                   1|11/01/2011|    Tuesday|07:10|              Harborough|Single Carriageway|         60|Darkn/no Lighting|              Fine|                    Wet|    Rural|                           Yes|  Driver/Rider|  Male| 43|            Fatal|\n",
      "| 2011331100897|         2011|-1.075111|52.613573|           Slight|                 2|                   1|15/02/2011|    Tuesday|15:37|       Oadby and Wigston|Single Carriageway|         40|         Daylight|             Other|                    Wet|    Rural|                           Yes|  Driver/Rider|  Male| 45|           Slight|\n",
      "| 2011331102279|         2011|-1.194907|52.580555|           Slight|                 2|                   1|24/04/2011|     Sunday|16:26|                   Blaby|  Dual Carriageway|         40|         Daylight|              Fine|                    Dry|    Urban|                           Yes|  Driver/Rider|  Male| 57|           Slight|\n",
      "| 2011331102320|         2011|-1.104199|52.736871|           Slight|                 2|                   1|29/04/2011|     Friday|00:16|               Charnwood|Single Carriageway|         30|  Dark/lights lit|              Fine|                    Dry|    Urban|                           Yes|  Driver/Rider|  Male| 40|           Slight|\n",
      "| 2011331103164|         2011|-0.514256|52.653898|           Slight|                 2|                   3|25/05/2011|  Wednesday|07:40|                 Rutland|Single Carriageway|         60|         Daylight|              Fine|                    Dry|    Rural|                           Yes|  Driver/Rider|  Male| 49|           Slight|\n",
      "| 2011331103164|         2011|-0.514256|52.653898|           Slight|                 2|                   3|25/05/2011|  Wednesday|07:40|                 Rutland|Single Carriageway|         60|         Daylight|              Fine|                    Dry|    Rural|                           Yes|     Passenger|Female| 52|           Slight|\n",
      "| 2011331103164|         2011|-0.514256|52.653898|           Slight|                 2|                   3|25/05/2011|  Wednesday|07:40|                 Rutland|Single Carriageway|         60|         Daylight|              Fine|                    Dry|    Rural|                           Yes|  Driver/Rider|  Male| 24|           Slight|\n",
      "| 2011331103930|         2011|-0.854596|52.845302|          Serious|                 2|                   2|16/07/2011|   Saturday|16:30|                  Melton|Single Carriageway|         60|         Daylight|              Fine|                    Wet|    Rural|                           Yes|  Driver/Rider|  Male| 26|          Serious|\n",
      "| 2011331103930|         2011|-0.854596|52.845302|          Serious|                 2|                   2|16/07/2011|   Saturday|16:30|                  Melton|Single Carriageway|         60|         Daylight|              Fine|                    Wet|    Rural|                           Yes|     Passenger|Female| 51|           Slight|\n",
      "| 2011331105158|         2011|-0.516147|  52.6461|          Serious|                 1|                   2|17/09/2011|   Saturday|00:10|                 Rutland|Single Carriageway|         30|  Dark/lights lit|              Fine|                    Wet|    Rural|                           Yes|  Driver/Rider|  Male| 21|           Slight|\n",
      "| 2011331105158|         2011|-0.516147|  52.6461|          Serious|                 1|                   2|17/09/2011|   Saturday|00:10|                 Rutland|Single Carriageway|         30|  Dark/lights lit|              Fine|                    Wet|    Rural|                           Yes|     Passenger|Female| 17|          Serious|\n",
      "| 2011331105678|         2011| -1.19056|52.584211|           Slight|                 2|                   1|29/09/2011|   Thursday|16:45|                   Blaby|  Dual Carriageway|         40|         Daylight|              Fine|                    Dry|    Urban|                            No|  Driver/Rider|Female| 28|           Slight|\n",
      "| 2011331106657|         2011|-0.833008|52.708891|           Slight|                 2|                   1|23/11/2011|  Wednesday|16:15|                  Melton|Single Carriageway|         60|         Daylight|              Fine|                    Dry|    Rural|                            No|  Driver/Rider|Female| 51|           Slight|\n",
      "+--------------+-------------+---------+---------+-----------------+------------------+--------------------+----------+-----------+-----+------------------------+------------------+-----------+-----------------+------------------+-----------------------+---------+------------------------------+--------------+------+---+-----------------+\n",
      "only showing top 20 rows\n",
      "\n"
     ]
    }
   ],
   "source": [
    "Leicestershire_cas1.show()"
   ]
  },
  {
   "cell_type": "code",
   "execution_count": 65,
   "metadata": {},
   "outputs": [],
   "source": [
    "#Change datatype of some columns of created dataframe from string to appropraite types\n",
    "\n",
    "Leicestershire_cas2 = Leicestershire_cas1.withColumn(\"Latitude\",Leicestershire_cas1[\"Latitude\"].cast(DoubleType()))\\\n",
    ".withColumn(\"Longitude\",Leicestershire_cas1[\"Longitude\"].cast(DoubleType()))\\\n",
    ".withColumn(\"Accident_Year\",Leicestershire_cas1[\"Accident_Year\"].cast(IntegerType()))\\\n",
    ".withColumn(\"Number_of_Casualties\",Leicestershire_cas1[\"Number_of_Casualties\"].cast(FloatType()))\\\n",
    ".withColumn(\"Number_of_Vehicles\",Leicestershire_cas1[\"Number_of_Vehicles\"].cast(FloatType()))\\\n",
    ".withColumn(\"Age\",Leicestershire_cas1[\"Age\"].cast(IntegerType()))\\\n",
    ".withColumn(\"Speed_Limit\",Leicestershire_cas1[\"Speed_Limit\"].cast(IntegerType()))\n"
   ]
  },
  {
   "cell_type": "code",
   "execution_count": 66,
   "metadata": {},
   "outputs": [],
   "source": [
    "#Change datatype of some columns of created dataframe from string to appropraite types\n",
    "\n",
    "Leicestershire_acc2 = Leicestershire_acc1.withColumn(\"Latitude\",Leicestershire_acc1[\"Latitude\"].cast(DoubleType()))\\\n",
    ".withColumn(\"Longitude\",Leicestershire_acc1[\"Longitude\"].cast(DoubleType()))\\\n",
    ".withColumn(\"Accident_Year\",Leicestershire_acc1[\"Accident_Year\"].cast(IntegerType()))\\\n",
    ".withColumn(\"Number_of_Casualties\",Leicestershire_acc1[\"Number_of_Casualties\"].cast(FloatType()))\\\n",
    ".withColumn(\"Number_of_Vehicles\",Leicestershire_acc1[\"Number_of_Vehicles\"].cast(FloatType()))\\\n",
    ".withColumn(\"Speed_Limit\",Leicestershire_acc1[\"Speed_Limit\"].cast(IntegerType()))\n"
   ]
  },
  {
   "cell_type": "code",
   "execution_count": 67,
   "metadata": {},
   "outputs": [
    {
     "name": "stdout",
     "output_type": "stream",
     "text": [
      "root\n",
      " |-- Accident_Index: string (nullable = true)\n",
      " |-- Accident_Year: integer (nullable = true)\n",
      " |-- Longitude: double (nullable = true)\n",
      " |-- Latitude: double (nullable = true)\n",
      " |-- Accident_Severity: string (nullable = true)\n",
      " |-- Number_of_Vehicles: float (nullable = true)\n",
      " |-- Number_of_Casualties: float (nullable = true)\n",
      " |-- Date: string (nullable = true)\n",
      " |-- Day_of_Week: string (nullable = true)\n",
      " |-- Time: string (nullable = true)\n",
      " |-- Local_Authority_District: string (nullable = true)\n",
      " |-- Road_Type: string (nullable = true)\n",
      " |-- Speed_Limit: integer (nullable = true)\n",
      " |-- Light_Conditions: string (nullable = true)\n",
      " |-- Weather_Conditions: string (nullable = true)\n",
      " |-- Road_Surface_Conditions: string (nullable = true)\n",
      " |-- Area_Type: string (nullable = true)\n",
      " |-- Police_Officer_Attend_Accident: string (nullable = true)\n",
      " |-- Casualty_Class: string (nullable = true)\n",
      " |-- Sex: string (nullable = true)\n",
      " |-- Age: integer (nullable = true)\n",
      " |-- Casualty_Severity: string (nullable = true)\n",
      "\n"
     ]
    }
   ],
   "source": [
    "#run an action to check if datatype has been changed\n",
    "Leicestershire_cas2.printSchema()"
   ]
  },
  {
   "cell_type": "code",
   "execution_count": 68,
   "metadata": {},
   "outputs": [
    {
     "name": "stdout",
     "output_type": "stream",
     "text": [
      "root\n",
      " |-- Accident_Index: string (nullable = true)\n",
      " |-- Accident_Year: integer (nullable = true)\n",
      " |-- Longitude: double (nullable = true)\n",
      " |-- Latitude: double (nullable = true)\n",
      " |-- Accident_Severity: string (nullable = true)\n",
      " |-- Number_of_Vehicles: float (nullable = true)\n",
      " |-- Number_of_Casualties: float (nullable = true)\n",
      " |-- Date: string (nullable = true)\n",
      " |-- Day_of_Week: string (nullable = true)\n",
      " |-- Time: string (nullable = true)\n",
      " |-- Local_Authority_District: string (nullable = true)\n",
      " |-- Road_Type: string (nullable = true)\n",
      " |-- Speed_Limit: integer (nullable = true)\n",
      " |-- Light_Conditions: string (nullable = true)\n",
      " |-- Weather_Conditions: string (nullable = true)\n",
      " |-- Road_Surface_Conditions: string (nullable = true)\n",
      " |-- Area_Type: string (nullable = true)\n",
      " |-- Police_Officer_Attend_Accident: string (nullable = true)\n",
      "\n"
     ]
    }
   ],
   "source": [
    "#run an action to check if datatype has been changed\n",
    "Leicestershire_acc2.printSchema()"
   ]
  },
  {
   "cell_type": "code",
   "execution_count": 69,
   "metadata": {},
   "outputs": [
    {
     "name": "stdout",
     "output_type": "stream",
     "text": [
      "+--------------+-------------+---------+---------+-----------------+------------------+--------------------+----------+-----------+-----+------------------------+------------------+-----------+-----------------+------------------+-----------------------+---------+------------------------------+--------------+------+---+-----------------+\n",
      "|Accident_Index|Accident_Year|Longitude| Latitude|Accident_Severity|Number_of_Vehicles|Number_of_Casualties|      Date|Day_of_Week| Time|Local_Authority_District|         Road_Type|Speed_Limit| Light_Conditions|Weather_Conditions|Road_Surface_Conditions|Area_Type|Police_Officer_Attend_Accident|Casualty_Class|   Sex|Age|Casualty_Severity|\n",
      "+--------------+-------------+---------+---------+-----------------+------------------+--------------------+----------+-----------+-----+------------------------+------------------+-----------+-----------------+------------------+-----------------------+---------+------------------------------+--------------+------+---+-----------------+\n",
      "| 2010331001236|         2010|-1.104062|52.642384|           Slight|               1.0|                 1.0|02/03/2010|    Tuesday|08:36|               Leicester|Single Carriageway|         30|         Daylight|              Fine|                    Dry|    Urban|                           Yes|    Pedestrian|  Male|  9|           Slight|\n",
      "| 2010331001645|         2010|-1.168153|52.621725|           Slight|               2.0|                 5.0|18/03/2010|   Thursday|17:54|               Leicester|Single Carriageway|         30|         Daylight|              Fine|                    Dry|    Urban|                           Yes|  Driver/Rider|Female| 18|           Slight|\n",
      "| 2010331001645|         2010|-1.168153|52.621725|           Slight|               2.0|                 5.0|18/03/2010|   Thursday|17:54|               Leicester|Single Carriageway|         30|         Daylight|              Fine|                    Dry|    Urban|                           Yes|     Passenger|Female| 12|           Slight|\n",
      "| 2010331001645|         2010|-1.168153|52.621725|           Slight|               2.0|                 5.0|18/03/2010|   Thursday|17:54|               Leicester|Single Carriageway|         30|         Daylight|              Fine|                    Dry|    Urban|                           Yes|  Driver/Rider|Female| 22|           Slight|\n",
      "| 2010331001645|         2010|-1.168153|52.621725|           Slight|               2.0|                 5.0|18/03/2010|   Thursday|17:54|               Leicester|Single Carriageway|         30|         Daylight|              Fine|                    Dry|    Urban|                           Yes|     Passenger|Female| 22|           Slight|\n",
      "| 2010331001645|         2010|-1.168153|52.621725|           Slight|               2.0|                 5.0|18/03/2010|   Thursday|17:54|               Leicester|Single Carriageway|         30|         Daylight|              Fine|                    Dry|    Urban|                           Yes|     Passenger|Female| 19|           Slight|\n",
      "| 2010331006047|         2010|-0.900312|52.757811|           Slight|               1.0|                 1.0|21/10/2010|   Thursday|07:58|                  Melton|Single Carriageway|         30|         Daylight|              Fine|                    Wet|    Urban|                           Yes|    Pedestrian|  Male| 16|           Slight|\n",
      "| 2011331100177|         2011|-1.186355|52.524307|            Fatal|               3.0|                 1.0|11/01/2011|    Tuesday|07:10|              Harborough|Single Carriageway|         60|Darkn/no Lighting|              Fine|                    Wet|    Rural|                           Yes|  Driver/Rider|  Male| 43|            Fatal|\n",
      "| 2011331100897|         2011|-1.075111|52.613573|           Slight|               2.0|                 1.0|15/02/2011|    Tuesday|15:37|       Oadby and Wigston|Single Carriageway|         40|         Daylight|             Other|                    Wet|    Rural|                           Yes|  Driver/Rider|  Male| 45|           Slight|\n",
      "| 2011331102279|         2011|-1.194907|52.580555|           Slight|               2.0|                 1.0|24/04/2011|     Sunday|16:26|                   Blaby|  Dual Carriageway|         40|         Daylight|              Fine|                    Dry|    Urban|                           Yes|  Driver/Rider|  Male| 57|           Slight|\n",
      "| 2011331102320|         2011|-1.104199|52.736871|           Slight|               2.0|                 1.0|29/04/2011|     Friday|00:16|               Charnwood|Single Carriageway|         30|  Dark/lights lit|              Fine|                    Dry|    Urban|                           Yes|  Driver/Rider|  Male| 40|           Slight|\n",
      "| 2011331103164|         2011|-0.514256|52.653898|           Slight|               2.0|                 3.0|25/05/2011|  Wednesday|07:40|                 Rutland|Single Carriageway|         60|         Daylight|              Fine|                    Dry|    Rural|                           Yes|  Driver/Rider|  Male| 49|           Slight|\n",
      "| 2011331103164|         2011|-0.514256|52.653898|           Slight|               2.0|                 3.0|25/05/2011|  Wednesday|07:40|                 Rutland|Single Carriageway|         60|         Daylight|              Fine|                    Dry|    Rural|                           Yes|     Passenger|Female| 52|           Slight|\n",
      "| 2011331103164|         2011|-0.514256|52.653898|           Slight|               2.0|                 3.0|25/05/2011|  Wednesday|07:40|                 Rutland|Single Carriageway|         60|         Daylight|              Fine|                    Dry|    Rural|                           Yes|  Driver/Rider|  Male| 24|           Slight|\n",
      "| 2011331103930|         2011|-0.854596|52.845302|          Serious|               2.0|                 2.0|16/07/2011|   Saturday|16:30|                  Melton|Single Carriageway|         60|         Daylight|              Fine|                    Wet|    Rural|                           Yes|  Driver/Rider|  Male| 26|          Serious|\n",
      "| 2011331103930|         2011|-0.854596|52.845302|          Serious|               2.0|                 2.0|16/07/2011|   Saturday|16:30|                  Melton|Single Carriageway|         60|         Daylight|              Fine|                    Wet|    Rural|                           Yes|     Passenger|Female| 51|           Slight|\n",
      "| 2011331105158|         2011|-0.516147|  52.6461|          Serious|               1.0|                 2.0|17/09/2011|   Saturday|00:10|                 Rutland|Single Carriageway|         30|  Dark/lights lit|              Fine|                    Wet|    Rural|                           Yes|  Driver/Rider|  Male| 21|           Slight|\n",
      "| 2011331105158|         2011|-0.516147|  52.6461|          Serious|               1.0|                 2.0|17/09/2011|   Saturday|00:10|                 Rutland|Single Carriageway|         30|  Dark/lights lit|              Fine|                    Wet|    Rural|                           Yes|     Passenger|Female| 17|          Serious|\n",
      "| 2011331105678|         2011| -1.19056|52.584211|           Slight|               2.0|                 1.0|29/09/2011|   Thursday|16:45|                   Blaby|  Dual Carriageway|         40|         Daylight|              Fine|                    Dry|    Urban|                            No|  Driver/Rider|Female| 28|           Slight|\n",
      "| 2011331106657|         2011|-0.833008|52.708891|           Slight|               2.0|                 1.0|23/11/2011|  Wednesday|16:15|                  Melton|Single Carriageway|         60|         Daylight|              Fine|                    Dry|    Rural|                            No|  Driver/Rider|Female| 51|           Slight|\n",
      "+--------------+-------------+---------+---------+-----------------+------------------+--------------------+----------+-----------+-----+------------------------+------------------+-----------+-----------------+------------------+-----------------------+---------+------------------------------+--------------+------+---+-----------------+\n",
      "only showing top 20 rows\n",
      "\n"
     ]
    }
   ],
   "source": [
    "Leicestershire_cas2.show()"
   ]
  },
  {
   "cell_type": "code",
   "execution_count": 70,
   "metadata": {},
   "outputs": [
    {
     "name": "stdout",
     "output_type": "stream",
     "text": [
      "+--------------+-------------+---------+---------+-----------------+------------------+--------------------+----------+-----------+-----+------------------------+------------------+-----------+-----------------+------------------+-----------------------+---------+------------------------------+\n",
      "|Accident_Index|Accident_Year|Longitude| Latitude|Accident_Severity|Number_of_Vehicles|Number_of_Casualties|      Date|Day_of_Week| Time|Local_Authority_District|         Road_Type|Speed_Limit| Light_Conditions|Weather_Conditions|Road_Surface_Conditions|Area_Type|Police_Officer_Attend_Accident|\n",
      "+--------------+-------------+---------+---------+-----------------+------------------+--------------------+----------+-----------+-----+------------------------+------------------+-----------+-----------------+------------------+-----------------------+---------+------------------------------+\n",
      "| 2010331000007|         2010|-1.159826|52.601438|           Slight|               2.0|                 1.0|04/01/2010|     Monday|12:55|               Leicester|Single Carriageway|         30|         Daylight|              Fine|              Frost/Ice|    Urban|                            No|\n",
      "| 2010331000009|         2010|-1.178035|52.598869|          Serious|               1.0|                 1.0|02/01/2010|   Saturday|14:10|                   Blaby|Single Carriageway|         30|         Daylight|             Other|              Frost/Ice|    Urban|                           Yes|\n",
      "| 2010331000010|         2010|-1.304496|52.817506|          Serious|               1.0|                 3.0|01/01/2010|     Friday|09:05|    North West Leices...|  Dual Carriageway|         70|         Daylight|              Fine|              Frost/Ice|    Rural|                            No|\n",
      "| 2010331000012|         2010|-1.193955| 52.43922|          Serious|               1.0|                 1.0|01/01/2010|     Friday|10:35|              Harborough|  Dual Carriageway|         70|         Daylight|              Fine|              Frost/Ice|    Rural|                           Yes|\n",
      "| 2010331000016|         2010|-1.151256|52.800057|           Slight|               1.0|                 1.0|03/01/2010|     Sunday|11:29|               Charnwood|Single Carriageway|         50|         Daylight|              Fine|              Frost/Ice|    Rural|                           Yes|\n",
      "| 2010331000018|         2010|-1.154106|52.622434|           Slight|               2.0|                 2.0|01/01/2010|     Friday|01:30|               Leicester|Single Carriageway|         30|  Dark/lights lit|              Fine|                    Wet|    Urban|                            No|\n",
      "| 2010331000019|         2010|-1.210108|52.572386|           Slight|               1.0|                 1.0|05/01/2010|    Tuesday|06:40|                   Blaby|  Dual Carriageway|         50|  Dark/lights lit|Snow no high winds|                    Wet|    Urban|                           Yes|\n",
      "| 2010331000021|         2010|-1.160869|52.685863|           Slight|               1.0|                 3.0|02/01/2010|   Saturday|09:55|               Leicester|  Dual Carriageway|         70|         Daylight|             Other|              Frost/Ice|    Rural|                           Yes|\n",
      "| 2010331000024|         2010|-1.262183|52.661005|           Slight|               1.0|                 1.0|01/01/2010|     Friday|09:05|    Hinckley and Bosw...|  Dual Carriageway|         70|         Daylight|             Other|              Frost/Ice|    Rural|                           Yes|\n",
      "| 2010331000027|         2010|-1.325677|52.656798|           Slight|               2.0|                 2.0|04/01/2010|     Monday|07:35|    Hinckley and Bosw...|Single Carriageway|         60|         Daylight|             Other|              Frost/Ice|    Rural|                           Yes|\n",
      "| 2010331000030|         2010|-1.155852|52.623795|           Slight|               2.0|                 1.0|24/02/2010|  Wednesday|09:25|               Leicester|Single Carriageway|         30|         Daylight|              Fine|                    Dry|    Urban|                            No|\n",
      "| 2010331000031|         2010|-1.134741|52.638027|           Slight|               2.0|                 1.0|02/01/2010|   Saturday|16:40|               Leicester|    One Way Street|         30|         Daylight|              Fine|                    Dry|    Urban|                            No|\n",
      "| 2010331000033|         2010|-1.192482|52.640233|           Slight|               2.0|                 2.0|01/01/2010|     Friday|10:20|               Leicester|Single Carriageway|         30|         Daylight|             Other|              Frost/Ice|    Urban|                           Yes|\n",
      "| 2010331000037|         2010| -0.99542| 52.59782|           Slight|               2.0|                 1.0|04/01/2010|     Monday|13:07|              Harborough|Single Carriageway|         60|         Daylight|Snow no high winds|              Frost/Ice|    Rural|                           Yes|\n",
      "| 2010331000038|         2010|-1.091797|52.635189|           Slight|               2.0|                 1.0|04/01/2010|     Monday|16:10|               Leicester|Single Carriageway|         30|  Dark/lights lit|             Other|              Frost/Ice|    Urban|                           Yes|\n",
      "| 2010331000041|         2010|-1.233325|52.594834|           Slight|               2.0|                 1.0|02/01/2010|   Saturday|21:40|                   Blaby|Single Carriageway|         60|Darkn/no Lighting|             Other|                    Wet|    Rural|                           Yes|\n",
      "| 2010331000042|         2010|-0.914657| 52.84236|           Slight|               2.0|                 3.0|03/01/2010|     Sunday|11:55|                  Melton|Single Carriageway|         60|         Daylight|              Fine|              Frost/Ice|    Rural|                           Yes|\n",
      "| 2010331000044|         2010|-0.987952|52.742319|           Slight|               3.0|                 4.0|04/01/2010|     Monday|18:15|                  Melton|Single Carriageway|         60|Darkn/no Lighting|              Fine|              Frost/Ice|    Rural|                           Yes|\n",
      "| 2010331000045|         2010|-1.140788|52.608494|           Slight|               2.0|                 1.0|02/01/2010|   Saturday|15:16|               Leicester|Single Carriageway|         30|         Daylight|Rain no high winds|                    Wet|    Urban|                           Yes|\n",
      "| 2010331000046|         2010|-1.126616| 52.64534|           Slight|               2.0|                 2.0|02/01/2010|   Saturday|14:15|               Leicester|        Roundabout|         30|         Daylight|Rain no high winds|                    Wet|    Urban|                           Yes|\n",
      "+--------------+-------------+---------+---------+-----------------+------------------+--------------------+----------+-----------+-----+------------------------+------------------+-----------+-----------------+------------------+-----------------------+---------+------------------------------+\n",
      "only showing top 20 rows\n",
      "\n"
     ]
    }
   ],
   "source": [
    "Leicestershire_acc2.show()"
   ]
  },
  {
   "cell_type": "code",
   "execution_count": 74,
   "metadata": {},
   "outputs": [
    {
     "name": "stdout",
     "output_type": "stream",
     "text": [
      "Total Records = 22523\n",
      "Total columns = 18\n",
      "------------------------------------------\n",
      "1.Column<b'Accident_Index'>\n",
      "  Missing Values = \n",
      "------------------------------------------\n",
      "+-------------------------------------------------------+\n",
      "|count(CASE WHEN (Accident_Index IS NULL) THEN true END)|\n",
      "+-------------------------------------------------------+\n",
      "|                                                      0|\n",
      "+-------------------------------------------------------+\n",
      "\n",
      "2.Column<b'Accident_Year'>\n",
      "  Missing Values = \n",
      "------------------------------------------\n",
      "+------------------------------------------------------+\n",
      "|count(CASE WHEN (Accident_Year IS NULL) THEN true END)|\n",
      "+------------------------------------------------------+\n",
      "|                                                     0|\n",
      "+------------------------------------------------------+\n",
      "\n",
      "3.Column<b'Longitude'>\n",
      "  Missing Values = \n",
      "------------------------------------------\n",
      "+--------------------------------------------------+\n",
      "|count(CASE WHEN (Longitude IS NULL) THEN true END)|\n",
      "+--------------------------------------------------+\n",
      "|                                                 0|\n",
      "+--------------------------------------------------+\n",
      "\n",
      "4.Column<b'Latitude'>\n",
      "  Missing Values = \n",
      "------------------------------------------\n",
      "+-------------------------------------------------+\n",
      "|count(CASE WHEN (Latitude IS NULL) THEN true END)|\n",
      "+-------------------------------------------------+\n",
      "|                                                0|\n",
      "+-------------------------------------------------+\n",
      "\n",
      "5.Column<b'Accident_Severity'>\n",
      "  Missing Values = \n",
      "------------------------------------------\n",
      "+----------------------------------------------------------+\n",
      "|count(CASE WHEN (Accident_Severity IS NULL) THEN true END)|\n",
      "+----------------------------------------------------------+\n",
      "|                                                         0|\n",
      "+----------------------------------------------------------+\n",
      "\n",
      "6.Column<b'Number_of_Vehicles'>\n",
      "  Missing Values = \n",
      "------------------------------------------\n",
      "+-----------------------------------------------------------+\n",
      "|count(CASE WHEN (Number_of_Vehicles IS NULL) THEN true END)|\n",
      "+-----------------------------------------------------------+\n",
      "|                                                          0|\n",
      "+-----------------------------------------------------------+\n",
      "\n",
      "7.Column<b'Number_of_Casualties'>\n",
      "  Missing Values = \n",
      "------------------------------------------\n",
      "+-------------------------------------------------------------+\n",
      "|count(CASE WHEN (Number_of_Casualties IS NULL) THEN true END)|\n",
      "+-------------------------------------------------------------+\n",
      "|                                                            0|\n",
      "+-------------------------------------------------------------+\n",
      "\n",
      "8.Column<b'Date'>\n",
      "  Missing Values = \n",
      "------------------------------------------\n",
      "+---------------------------------------------+\n",
      "|count(CASE WHEN (Date IS NULL) THEN true END)|\n",
      "+---------------------------------------------+\n",
      "|                                            0|\n",
      "+---------------------------------------------+\n",
      "\n",
      "9.Column<b'Day_of_Week'>\n",
      "  Missing Values = \n",
      "------------------------------------------\n",
      "+----------------------------------------------------+\n",
      "|count(CASE WHEN (Day_of_Week IS NULL) THEN true END)|\n",
      "+----------------------------------------------------+\n",
      "|                                                   0|\n",
      "+----------------------------------------------------+\n",
      "\n",
      "10.Column<b'Time'>\n",
      "  Missing Values = \n",
      "------------------------------------------\n",
      "+---------------------------------------------+\n",
      "|count(CASE WHEN (Time IS NULL) THEN true END)|\n",
      "+---------------------------------------------+\n",
      "|                                            0|\n",
      "+---------------------------------------------+\n",
      "\n",
      "11.Column<b'Local_Authority_District'>\n",
      "  Missing Values = \n",
      "------------------------------------------\n",
      "+-----------------------------------------------------------------+\n",
      "|count(CASE WHEN (Local_Authority_District IS NULL) THEN true END)|\n",
      "+-----------------------------------------------------------------+\n",
      "|                                                                0|\n",
      "+-----------------------------------------------------------------+\n",
      "\n",
      "12.Column<b'Road_Type'>\n",
      "  Missing Values = \n",
      "------------------------------------------\n",
      "+--------------------------------------------------+\n",
      "|count(CASE WHEN (Road_Type IS NULL) THEN true END)|\n",
      "+--------------------------------------------------+\n",
      "|                                                 0|\n",
      "+--------------------------------------------------+\n",
      "\n",
      "13.Column<b'Speed_Limit'>\n",
      "  Missing Values = \n",
      "------------------------------------------\n",
      "+----------------------------------------------------+\n",
      "|count(CASE WHEN (Speed_Limit IS NULL) THEN true END)|\n",
      "+----------------------------------------------------+\n",
      "|                                                   0|\n",
      "+----------------------------------------------------+\n",
      "\n",
      "14.Column<b'Light_Conditions'>\n",
      "  Missing Values = \n",
      "------------------------------------------\n",
      "+---------------------------------------------------------+\n",
      "|count(CASE WHEN (Light_Conditions IS NULL) THEN true END)|\n",
      "+---------------------------------------------------------+\n",
      "|                                                        0|\n",
      "+---------------------------------------------------------+\n",
      "\n",
      "15.Column<b'Weather_Conditions'>\n",
      "  Missing Values = \n",
      "------------------------------------------\n",
      "+-----------------------------------------------------------+\n",
      "|count(CASE WHEN (Weather_Conditions IS NULL) THEN true END)|\n",
      "+-----------------------------------------------------------+\n",
      "|                                                          0|\n",
      "+-----------------------------------------------------------+\n",
      "\n",
      "16.Column<b'Road_Surface_Conditions'>\n",
      "  Missing Values = \n",
      "------------------------------------------\n",
      "+----------------------------------------------------------------+\n",
      "|count(CASE WHEN (Road_Surface_Conditions IS NULL) THEN true END)|\n",
      "+----------------------------------------------------------------+\n",
      "|                                                               0|\n",
      "+----------------------------------------------------------------+\n",
      "\n",
      "17.Column<b'Area_Type'>\n",
      "  Missing Values = \n",
      "------------------------------------------\n",
      "+--------------------------------------------------+\n",
      "|count(CASE WHEN (Area_Type IS NULL) THEN true END)|\n",
      "+--------------------------------------------------+\n",
      "|                                                 0|\n",
      "+--------------------------------------------------+\n",
      "\n",
      "18.Column<b'Police_Officer_Attend_Accident'>\n",
      "  Missing Values = \n",
      "------------------------------------------\n",
      "+-----------------------------------------------------------------------+\n",
      "|count(CASE WHEN (Police_Officer_Attend_Accident IS NULL) THEN true END)|\n",
      "+-----------------------------------------------------------------------+\n",
      "|                                                                      0|\n",
      "+-----------------------------------------------------------------------+\n",
      "\n"
     ]
    }
   ],
   "source": [
    "i = 0 # reset counter\n",
    "#get the total records amount\n",
    "total = Leicestershire_acc2.count()\n",
    "\n",
    "print(\"Total Records = \" + str(total))\n",
    "\n",
    "#print the amount of coumns\n",
    "print(\"Total columns = \" + str(len(Leicestershire_acc2.columns)))\n",
    "print(\"------------------------------------------\")\n",
    "\n",
    "#loop entire table and get the missing value number and missing rate of each column\n",
    "while i < len(Leicestershire_acc2.columns): #loop through all columns\n",
    "    print(str(i+1) + \".\" + str(Leicestershire_acc2[i]))\n",
    "    print(\"  Missing Values = \") \n",
    "    print(\"------------------------------------------\")\n",
    "    \n",
    "    Leicestershire_acc2.select([count(when(Leicestershire_acc2[i].isNull(),\\\n",
    "                                        True))]).show() #check for missing values\n",
    "    i = i+1 #counter add 1\n"
   ]
  },
  {
   "cell_type": "code",
   "execution_count": 75,
   "metadata": {},
   "outputs": [
    {
     "name": "stdout",
     "output_type": "stream",
     "text": [
      "------------------------------------------\n",
      "1.Column<b'Accident_Index'>\n",
      "+-------+--------------------+\n",
      "|summary|      Accident_Index|\n",
      "+-------+--------------------+\n",
      "|  count|               22523|\n",
      "|   mean|2.014593426983404E12|\n",
      "| stddev| 2.978124384229239E9|\n",
      "|    min|       2010331000007|\n",
      "|    max|       2020332001253|\n",
      "+-------+--------------------+\n",
      "\n",
      "------------------------------------------\n",
      "2.Column<b'Accident_Year'>\n",
      "+-------+-------------+\n",
      "|summary|Accident_Year|\n",
      "+-------+-------------+\n",
      "|  count|            0|\n",
      "|   mean|         null|\n",
      "| stddev|         null|\n",
      "|    min|         null|\n",
      "|    max|         null|\n",
      "+-------+-------------+\n",
      "\n",
      "------------------------------------------\n",
      "3.Column<b'Longitude'>\n",
      "+-------+---------+\n",
      "|summary|Longitude|\n",
      "+-------+---------+\n",
      "|  count|        0|\n",
      "|   mean|     null|\n",
      "| stddev|     null|\n",
      "|    min|     null|\n",
      "|    max|     null|\n",
      "+-------+---------+\n",
      "\n",
      "------------------------------------------\n",
      "4.Column<b'Latitude'>\n",
      "+-------+--------+\n",
      "|summary|Latitude|\n",
      "+-------+--------+\n",
      "|  count|       0|\n",
      "|   mean|    null|\n",
      "| stddev|    null|\n",
      "|    min|    null|\n",
      "|    max|    null|\n",
      "+-------+--------+\n",
      "\n",
      "------------------------------------------\n",
      "5.Column<b'Accident_Severity'>\n",
      "+-------+-----------------+\n",
      "|summary|Accident_Severity|\n",
      "+-------+-----------------+\n",
      "|  count|            22523|\n",
      "|   mean|             null|\n",
      "| stddev|             null|\n",
      "|    min|            Fatal|\n",
      "|    max|           Slight|\n",
      "+-------+-----------------+\n",
      "\n",
      "------------------------------------------\n",
      "6.Column<b'Number_of_Vehicles'>\n",
      "+-------+------------------+\n",
      "|summary|Number_of_Vehicles|\n",
      "+-------+------------------+\n",
      "|  count|                 0|\n",
      "|   mean|              null|\n",
      "| stddev|              null|\n",
      "|    min|              null|\n",
      "|    max|              null|\n",
      "+-------+------------------+\n",
      "\n",
      "------------------------------------------\n",
      "7.Column<b'Number_of_Casualties'>\n",
      "+-------+--------------------+\n",
      "|summary|Number_of_Casualties|\n",
      "+-------+--------------------+\n",
      "|  count|                   0|\n",
      "|   mean|                null|\n",
      "| stddev|                null|\n",
      "|    min|                null|\n",
      "|    max|                null|\n",
      "+-------+--------------------+\n",
      "\n",
      "------------------------------------------\n",
      "8.Column<b'Date'>\n",
      "+-------+----------+\n",
      "|summary|      Date|\n",
      "+-------+----------+\n",
      "|  count|     22523|\n",
      "|   mean|      null|\n",
      "| stddev|      null|\n",
      "|    min|01/01/2010|\n",
      "|    max|31/12/2020|\n",
      "+-------+----------+\n",
      "\n",
      "------------------------------------------\n",
      "9.Column<b'Day_of_Week'>\n",
      "+-------+-----------+\n",
      "|summary|Day_of_Week|\n",
      "+-------+-----------+\n",
      "|  count|      22523|\n",
      "|   mean|       null|\n",
      "| stddev|       null|\n",
      "|    min|     Friday|\n",
      "|    max|  Wednesday|\n",
      "+-------+-----------+\n",
      "\n",
      "------------------------------------------\n",
      "10.Column<b'Time'>\n",
      "+-------+-----+\n",
      "|summary| Time|\n",
      "+-------+-----+\n",
      "|  count|22523|\n",
      "|   mean| null|\n",
      "| stddev| null|\n",
      "|    min|00:01|\n",
      "|    max|23:59|\n",
      "+-------+-----+\n",
      "\n",
      "------------------------------------------\n",
      "11.Column<b'Local_Authority_District'>\n",
      "+-------+------------------------+\n",
      "|summary|Local_Authority_District|\n",
      "+-------+------------------------+\n",
      "|  count|                   22523|\n",
      "|   mean|                    null|\n",
      "| stddev|                    null|\n",
      "|    min|                   Blaby|\n",
      "|    max|                 Rutland|\n",
      "+-------+------------------------+\n",
      "\n",
      "------------------------------------------\n",
      "12.Column<b'Road_Type'>\n",
      "+-------+----------------+\n",
      "|summary|       Road_Type|\n",
      "+-------+----------------+\n",
      "|  count|           22523|\n",
      "|   mean|            null|\n",
      "| stddev|            null|\n",
      "|    min|Dual Carriageway|\n",
      "|    max|         unknown|\n",
      "+-------+----------------+\n",
      "\n",
      "------------------------------------------\n",
      "13.Column<b'Speed_Limit'>\n",
      "+-------+-----------+\n",
      "|summary|Speed_Limit|\n",
      "+-------+-----------+\n",
      "|  count|          0|\n",
      "|   mean|       null|\n",
      "| stddev|       null|\n",
      "|    min|       null|\n",
      "|    max|       null|\n",
      "+-------+-----------+\n",
      "\n",
      "------------------------------------------\n",
      "14.Column<b'Light_Conditions'>\n",
      "+-------+--------------------+\n",
      "|summary|    Light_Conditions|\n",
      "+-------+--------------------+\n",
      "|  count|               22523|\n",
      "|   mean|                null|\n",
      "| stddev|                null|\n",
      "|    min|Dark/ Lighting Un...|\n",
      "|    max|            Daylight|\n",
      "+-------+--------------------+\n",
      "\n",
      "------------------------------------------\n",
      "15.Column<b'Weather_Conditions'>\n",
      "+-------+------------------+\n",
      "|summary|Weather_Conditions|\n",
      "+-------+------------------+\n",
      "|  count|             22523|\n",
      "|   mean|              null|\n",
      "| stddev|              null|\n",
      "|    min|              Fine|\n",
      "|    max|           Unknown|\n",
      "+-------+------------------+\n",
      "\n",
      "------------------------------------------\n",
      "16.Column<b'Road_Surface_Conditions'>\n",
      "+-------+-----------------------+\n",
      "|summary|Road_Surface_Conditions|\n",
      "+-------+-----------------------+\n",
      "|  count|                  22523|\n",
      "|   mean|                   null|\n",
      "| stddev|                   null|\n",
      "|    min|                    Dry|\n",
      "|    max|                    Wet|\n",
      "+-------+-----------------------+\n",
      "\n",
      "------------------------------------------\n",
      "17.Column<b'Area_Type'>\n",
      "+-------+---------+\n",
      "|summary|Area_Type|\n",
      "+-------+---------+\n",
      "|  count|    22523|\n",
      "|   mean|     null|\n",
      "| stddev|     null|\n",
      "|    min|    Rural|\n",
      "|    max|    Urban|\n",
      "+-------+---------+\n",
      "\n",
      "------------------------------------------\n",
      "18.Column<b'Police_Officer_Attend_Accident'>\n",
      "+-------+------------------------------+\n",
      "|summary|Police_Officer_Attend_Accident|\n",
      "+-------+------------------------------+\n",
      "|  count|                         22523|\n",
      "|   mean|                          null|\n",
      "| stddev|                          null|\n",
      "|    min|                            No|\n",
      "|    max|                           Yes|\n",
      "+-------+------------------------------+\n",
      "\n",
      "------------------------------------------\n"
     ]
    }
   ],
   "source": [
    "#reset counter\n",
    "i=0\n",
    "\n",
    "print(\"------------------------------------------\")\n",
    "\n",
    "#loop each column and get the descriptionof each one\n",
    "while i < len(Leicestershire_acc2.columns):\n",
    "    mv = Leicestershire_acc2.where(Leicestershire_acc2[i] =='').count() #get the missing value number of current column\n",
    "    print(str(i+1) + \".\" + str(Leicestershire_acc2[i]))\n",
    "    Leicestershire_acc2.where(Leicestershire_acc2[i] !='').describe(Leicestershire_acc2.columns[i]).show()\n",
    "    print(\"------------------------------------------\")\n",
    "    i = i+1 #counter add 1\n"
   ]
  },
  {
   "cell_type": "code",
   "execution_count": 37,
   "metadata": {},
   "outputs": [
    {
     "name": "stdout",
     "output_type": "stream",
     "text": [
      "+-------------+-----+\n",
      "|Accident_Year|count|\n",
      "+-------------+-----+\n",
      "|         2010| 3513|\n",
      "|         2011| 3342|\n",
      "|         2012| 3287|\n",
      "|         2014| 3240|\n",
      "|         2013| 3193|\n",
      "|         2015| 2942|\n",
      "|         2016| 2924|\n",
      "|         2017| 2219|\n",
      "|         2018| 2141|\n",
      "|         2019| 1769|\n",
      "|         2020| 1491|\n",
      "+-------------+-----+\n",
      "\n"
     ]
    }
   ],
   "source": [
    "#get the casualty counts for each year ordered in descending order\n",
    "acc_cas2.groupby(\"Accident_Year\").count().orderBy(desc(\"count\")).show()"
   ]
  },
  {
   "cell_type": "code",
   "execution_count": 36,
   "metadata": {},
   "outputs": [],
   "source": [
    "from io import StringIO\n",
    "from collections import namedtuple\n",
    "from pyspark.sql import Row\n",
    "from pyspark.sql.types import *\n",
    "from pyspark.sql.functions import *\n"
   ]
  },
  {
   "cell_type": "code",
   "execution_count": 35,
   "metadata": {},
   "outputs": [
    {
     "ename": "SyntaxError",
     "evalue": "invalid syntax (<ipython-input-35-d78aee80404e>, line 3)",
     "output_type": "error",
     "traceback": [
      "\u001b[0;36m  File \u001b[0;32m\"<ipython-input-35-d78aee80404e>\"\u001b[0;36m, line \u001b[0;32m3\u001b[0m\n\u001b[0;31m    .groupby(\"Year\").count().orderBy(desc(\"count\")).show()\u001b[0m\n\u001b[0m    ^\u001b[0m\n\u001b[0;31mSyntaxError\u001b[0m\u001b[0;31m:\u001b[0m invalid syntax\n"
     ]
    }
   ],
   "source": [
    "#retrieve yearly amount of crimes sorted descendantly\n",
    "acc_cas2.select(LondonCrime.Month, ).\\\n",
    ".groupby(\"Year\").count().orderBy(desc(\"count\")).show()"
   ]
  },
  {
   "cell_type": "code",
   "execution_count": 52,
   "metadata": {},
   "outputs": [],
   "source": [
    "\n",
    "from pyspark.sql.functions import udf\n",
    " age_range = udf(lambda age: '0-5' if age <= 5 else \n",
    "                       '6-10' if (age >= 6 and age <= 10) else\n",
    "                       '11-15' if (age >=  and age < 30) else\n",
    "                       '30-35' if (age >= 30 and age < 35) else\n",
    "                       '35-40' if (age >= 35 and age < 40) else\n",
    "                       '40-45' if (age >= 40 and age < 45) else\n",
    "                       '45-50' if (age >= 45 and age < 50) else\n",
    "                       '50-55' if (age >= 50 and age < 55) else\n",
    "                       '55-60' if (age >= 55 and age < 60) else\n",
    "                       '60-65' if (age >= 60 and age < 65) else\n",
    "                       '65-70' if (age >= 65 and age < 70) else\n",
    "                        '75+'  if (age >= 70) else '')\n",
    "\n",
    " "
   ]
  },
  {
   "cell_type": "code",
   "execution_count": 49,
   "metadata": {},
   "outputs": [
    {
     "name": "stdout",
     "output_type": "stream",
     "text": [
      "+----------------------------------------------+\n",
      "|count(DISTINCT Accident_Index, Accident_Index)|\n",
      "+----------------------------------------------+\n",
      "|                                         22523|\n",
      "+----------------------------------------------+\n",
      "\n"
     ]
    }
   ],
   "source": [
    "from pyspark.sql.functions import countDistinct\n",
    "accident_count = acc_cas2.select(countDistinct(\"Accident_Index\", \"Accident_Index\"))\n",
    "accident_count.show()"
   ]
  },
  {
   "cell_type": "code",
   "execution_count": 39,
   "metadata": {},
   "outputs": [],
   "source": [
    "\n",
    "#Register our created acc_cas dataframe as a table\n",
    "sqlContext.registerDataFrameAsTable(acc_cas2, \"Leicestershire_Acc\") 22523"
   ]
  },
  {
   "cell_type": "code",
   "execution_count": null,
   "metadata": {},
   "outputs": [],
   "source": [
    "sqlContext.sql(\"select * from Leicestershire_Acc\").take(2)"
   ]
  },
  {
   "cell_type": "code",
   "execution_count": 47,
   "metadata": {},
   "outputs": [
    {
     "name": "stdout",
     "output_type": "stream",
     "text": [
      "+--------------------+\n",
      "|count(Accident_Year)|\n",
      "+--------------------+\n",
      "|               30061|\n",
      "+--------------------+\n",
      "\n"
     ]
    }
   ],
   "source": [
    "#Count Distinct Accident indexes to \n",
    "sqlContext.sql(\"SELECT distinct(count(Accident_Year)) FROM Leicestershire_Acc\").show()"
   ]
  },
  {
   "cell_type": "code",
   "execution_count": null,
   "metadata": {},
   "outputs": [],
   "source": [
    "import pixiedust"
   ]
  },
  {
   "cell_type": "code",
   "execution_count": null,
   "metadata": {
    "pixiedust": {
     "displayParams": {
      "aggregation": "COUNT",
      "handlerId": "barChart",
      "keyFields": "Accident_Year,Age_of_Casualty",
      "rowCount": "100"
     }
    }
   },
   "outputs": [
    {
     "data": {
      "text/html": [
       "<style type=\"text/css\">.pd_warning{display:none;}</style><div class=\"pd_warning\"><em>Hey, there's something awesome here! To see it, open this notebook outside GitHub, in a viewer like Jupyter</em></div>\n",
       "        <div class=\"pd_save is-viewer-good\" style=\"padding-right:10px;text-align: center;line-height:initial !important;font-size: xx-large;font-weight: 500;color: coral;\">\n",
       "            \n",
       "        </div>\n",
       "    <div id=\"chartFigurec0e971b2\" class=\"pd_save is-viewer-good\" style=\"overflow-x:auto\">\n",
       "            \n",
       "                    \n",
       "                            <center><img style=\"max-width:initial !important\" src=\"data:image/png;base64,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\" class=\"pd_save\"></center>\n",
       "                        \n",
       "                    \n",
       "                        <div>Some labels are not displayed because of a lack of space. Click on Stretch image to see them all</div>\n",
       "                    \n",
       "                \n",
       "        </div>"
      ],
      "text/plain": [
       "<IPython.core.display.HTML object>"
      ]
     },
     "metadata": {},
     "output_type": "display_data"
    }
   ],
   "source": [
    "display(acc_cas)"
   ]
  },
  {
   "cell_type": "code",
   "execution_count": null,
   "metadata": {},
   "outputs": [],
   "source": []
  }
 ],
 "metadata": {
  "kernelspec": {
   "display_name": "Python 3",
   "language": "python",
   "name": "python3"
  },
  "language_info": {
   "codemirror_mode": {
    "name": "ipython",
    "version": 3
   },
   "file_extension": ".py",
   "mimetype": "text/x-python",
   "name": "python",
   "nbconvert_exporter": "python",
   "pygments_lexer": "ipython3",
   "version": "3.6.8"
  },
  "toc": {
   "base_numbering": 1,
   "nav_menu": {},
   "number_sections": true,
   "sideBar": true,
   "skip_h1_title": false,
   "title_cell": "Table of Contents",
   "title_sidebar": "Contents",
   "toc_cell": false,
   "toc_position": {},
   "toc_section_display": true,
   "toc_window_display": false
  }
 },
 "nbformat": 4,
 "nbformat_minor": 2
}
